{
 "cells": [
  {
   "cell_type": "code",
   "execution_count": 16,
   "id": "2ab1098b-0eab-4446-8b64-6c605902b974",
   "metadata": {
    "execution": {
     "iopub.execute_input": "2024-06-03T10:17:34.012546Z",
     "iopub.status.busy": "2024-06-03T10:17:34.011996Z",
     "iopub.status.idle": "2024-06-03T10:17:34.016023Z",
     "shell.execute_reply": "2024-06-03T10:17:34.015481Z",
     "shell.execute_reply.started": "2024-06-03T10:17:34.012515Z"
    },
    "tags": []
   },
   "outputs": [],
   "source": [
    "import torch\n",
    "from torch.utils.data import Dataset, DataLoader\n",
    "from torchvision import transforms, models\n",
    "from PIL import Image\n",
    "import os\n",
    "import numpy as np\n"
   ]
  },
  {
   "cell_type": "code",
   "execution_count": 17,
   "id": "68b785bc-1daa-4423-ac76-2ec4e4d78660",
   "metadata": {
    "execution": {
     "iopub.execute_input": "2024-06-03T10:17:36.153811Z",
     "iopub.status.busy": "2024-06-03T10:17:36.153291Z",
     "iopub.status.idle": "2024-06-03T10:17:36.162487Z",
     "shell.execute_reply": "2024-06-03T10:17:36.161551Z",
     "shell.execute_reply.started": "2024-06-03T10:17:36.153770Z"
    },
    "tags": []
   },
   "outputs": [],
   "source": [
    "class CatsAndDogsDataset(Dataset):\n",
    "    def __init__(self, folder_path, transform=None):\n",
    "        self.folder_path = folder_path\n",
    "        self.transform = transform\n",
    "        self.images = []\n",
    "        self.labels = []\n",
    "\n",
    "        for file_name in os.listdir(folder_path):\n",
    "            if file_name.startswith('cat'):\n",
    "                label = 0\n",
    "            elif file_name.startswith('dog'):\n",
    "                label = 1\n",
    "            else:\n",
    "                continue\n",
    "            \n",
    "            self.images.append(file_name)\n",
    "            self.labels.append(label)\n",
    "\n",
    "    def __len__(self):\n",
    "        return len(self.images)\n",
    "\n",
    "    def __getitem__(self, idx):\n",
    "        img_name = os.path.join(self.folder_path, self.images[idx])\n",
    "        image = Image.open(img_name)\n",
    "        label = self.labels[idx]\n",
    "\n",
    "        if self.transform:\n",
    "            image = self.transform(image)\n",
    "\n",
    "        return image, label\n"
   ]
  },
  {
   "cell_type": "code",
   "execution_count": 18,
   "id": "12c169b7-9bb4-4f6b-9b3c-4e013b97759a",
   "metadata": {
    "execution": {
     "iopub.execute_input": "2024-06-03T10:17:39.152560Z",
     "iopub.status.busy": "2024-06-03T10:17:39.152136Z",
     "iopub.status.idle": "2024-06-03T10:17:39.160060Z",
     "shell.execute_reply": "2024-06-03T10:17:39.158749Z",
     "shell.execute_reply.started": "2024-06-03T10:17:39.152520Z"
    },
    "tags": []
   },
   "outputs": [],
   "source": [
    "def train_cnn_model():\n",
    "    # 实例化模型\n",
    "    model = define_cnn_model()\n",
    "    datagen = ImageDataGenerator(rescale=1.0/255.0)\n",
    "    train_it = datagen.flow_from_directory(\n",
    "        \"dogsandcats/\",\n",
    "        class_mode=\"binary\",\n",
    "        batch_size=64,\n",
    "        target_size=(200, 200))  \n",
    "    # 大炼钢铁！\n",
    "    model.fit_generator(train_it,\n",
    "                        steps_per_epoch=len(train_it),\n",
    "                        epochs=5,\n",
    "                        verbose=1)\n",
    "    model.save(\"my_model.h5\")"
   ]
  },
  {
   "cell_type": "code",
   "execution_count": 19,
   "id": "5fb638ab-cb97-4959-834e-e049294af262",
   "metadata": {
    "execution": {
     "iopub.execute_input": "2024-06-03T10:17:41.573158Z",
     "iopub.status.busy": "2024-06-03T10:17:41.572908Z",
     "iopub.status.idle": "2024-06-03T10:17:41.576385Z",
     "shell.execute_reply": "2024-06-03T10:17:41.575931Z",
     "shell.execute_reply.started": "2024-06-03T10:17:41.573138Z"
    },
    "tags": []
   },
   "outputs": [],
   "source": [
    "transform = transforms.Compose([\n",
    "    transforms.Resize((200, 200)),\n",
    "    transforms.ToTensor(),\n",
    "    transforms.Normalize(mean=[0.485, 0.456, 0.406], std=[0.229, 0.224, 0.225]),\n",
    "])"
   ]
  },
  {
   "cell_type": "code",
   "execution_count": 20,
   "id": "a3e8120c-423f-4d99-8627-55675483033f",
   "metadata": {
    "execution": {
     "iopub.execute_input": "2024-06-03T10:17:43.271730Z",
     "iopub.status.busy": "2024-06-03T10:17:43.271338Z",
     "iopub.status.idle": "2024-06-03T10:17:43.306512Z",
     "shell.execute_reply": "2024-06-03T10:17:43.305540Z",
     "shell.execute_reply.started": "2024-06-03T10:17:43.271683Z"
    },
    "tags": []
   },
   "outputs": [],
   "source": [
    "dataset = CatsAndDogsDataset(folder_path='./dogsandcats', transform=transform)\n",
    "dataloader = DataLoader(dataset, batch_size=64, shuffle=True)"
   ]
  },
  {
   "cell_type": "code",
   "execution_count": 21,
   "id": "89dfa55c-3ea7-4656-a16b-3b04e96d4290",
   "metadata": {
    "execution": {
     "iopub.execute_input": "2024-06-03T10:17:49.540704Z",
     "iopub.status.busy": "2024-06-03T10:17:49.540265Z",
     "iopub.status.idle": "2024-06-03T10:17:49.871634Z",
     "shell.execute_reply": "2024-06-03T10:17:49.871052Z",
     "shell.execute_reply.started": "2024-06-03T10:17:49.540663Z"
    },
    "tags": []
   },
   "outputs": [],
   "source": [
    "model = models.resnet18(pretrained=True)\n",
    "# 替换最后一层，全连接层输出2个类\n",
    "model.fc = torch.nn.Linear(model.fc.in_features, 2)  "
   ]
  },
  {
   "cell_type": "code",
   "execution_count": 22,
   "id": "500b5d9e-3407-446e-a1d1-43923a24059a",
   "metadata": {
    "execution": {
     "iopub.execute_input": "2024-06-03T10:17:52.054859Z",
     "iopub.status.busy": "2024-06-03T10:17:52.054437Z",
     "iopub.status.idle": "2024-06-03T10:17:52.071580Z",
     "shell.execute_reply": "2024-06-03T10:17:52.071047Z",
     "shell.execute_reply.started": "2024-06-03T10:17:52.054819Z"
    },
    "tags": []
   },
   "outputs": [
    {
     "name": "stdout",
     "output_type": "stream",
     "text": [
      "cuda\n"
     ]
    }
   ],
   "source": [
    "device = torch.device('cuda' if torch.cuda.is_available() else 'cpu')\n",
    "model = model.to(device)\n",
    "# 看看设备 别用cpu!\n",
    "print(device) "
   ]
  },
  {
   "cell_type": "code",
   "execution_count": 23,
   "id": "d3504763-de39-4eaf-8fb9-1010056fe4de",
   "metadata": {
    "execution": {
     "iopub.execute_input": "2024-06-03T10:17:55.613397Z",
     "iopub.status.busy": "2024-06-03T10:17:55.612972Z",
     "iopub.status.idle": "2024-06-03T10:17:55.619231Z",
     "shell.execute_reply": "2024-06-03T10:17:55.618365Z",
     "shell.execute_reply.started": "2024-06-03T10:17:55.613358Z"
    },
    "tags": []
   },
   "outputs": [],
   "source": [
    "criterion = torch.nn.CrossEntropyLoss()\n",
    "optimizer = torch.optim.Adam(model.parameters(), lr=0.001)"
   ]
  },
  {
   "cell_type": "code",
   "execution_count": 24,
   "id": "1acc101e-42e1-4448-aeba-ac9620e5dacf",
   "metadata": {
    "execution": {
     "iopub.execute_input": "2024-06-03T10:17:57.410399Z",
     "iopub.status.busy": "2024-06-03T10:17:57.410001Z",
     "iopub.status.idle": "2024-06-03T10:17:57.415873Z",
     "shell.execute_reply": "2024-06-03T10:17:57.414913Z",
     "shell.execute_reply.started": "2024-06-03T10:17:57.410360Z"
    },
    "tags": []
   },
   "outputs": [],
   "source": [
    "def calculate_accuracy(outputs, labels):\n",
    "    _, preds = torch.max(outputs, 1)\n",
    "    return torch.sum(preds == labels).item() / len(labels)"
   ]
  },
  {
   "cell_type": "code",
   "execution_count": 25,
   "id": "586b130d-dc33-4927-95a7-c5d503803d44",
   "metadata": {
    "execution": {
     "iopub.execute_input": "2024-06-03T10:18:08.151190Z",
     "iopub.status.busy": "2024-06-03T10:18:08.150736Z",
     "iopub.status.idle": "2024-06-03T10:27:49.711215Z",
     "shell.execute_reply": "2024-06-03T10:27:49.710668Z",
     "shell.execute_reply.started": "2024-06-03T10:18:08.151151Z"
    },
    "tags": []
   },
   "outputs": [
    {
     "name": "stdout",
     "output_type": "stream",
     "text": [
      "Epoch [1/10], Loss: 0.1435, Accuracy: 0.9440\n",
      "Epoch [2/10], Loss: 0.0840, Accuracy: 0.9666\n",
      "Epoch [3/10], Loss: 0.0703, Accuracy: 0.9717\n",
      "Epoch [4/10], Loss: 0.0594, Accuracy: 0.9764\n",
      "Epoch [5/10], Loss: 0.0405, Accuracy: 0.9843\n",
      "Epoch [6/10], Loss: 0.0430, Accuracy: 0.9828\n",
      "Epoch [7/10], Loss: 0.0331, Accuracy: 0.9882\n",
      "Epoch [8/10], Loss: 0.0348, Accuracy: 0.9863\n",
      "Epoch [9/10], Loss: 0.0280, Accuracy: 0.9896\n",
      "Epoch [10/10], Loss: 0.0207, Accuracy: 0.9922\n",
      "Finished Training\n"
     ]
    }
   ],
   "source": [
    "num_epochs = 10\n",
    "for epoch in range(num_epochs):\n",
    "    model.train()\n",
    "    running_loss = 0.0\n",
    "    running_corrects = 0\n",
    "    total_samples = 0\n",
    "    \n",
    "    for images, labels in dataloader:\n",
    "        images, labels = images.to(device), labels.to(device)\n",
    "        total_samples += labels.size(0)\n",
    "\n",
    "        optimizer.zero_grad()\n",
    "        outputs = model(images)\n",
    "        loss = criterion(outputs, labels)\n",
    "        loss.backward()\n",
    "        optimizer.step()\n",
    "\n",
    "        running_loss += loss.item()\n",
    "        running_corrects += calculate_accuracy(outputs, labels) * labels.size(0)\n",
    "\n",
    "    epoch_loss = running_loss / len(dataloader)\n",
    "    epoch_acc = running_corrects / total_samples\n",
    "    # 十步就能到99，loss0.02，不用再多了\n",
    "    print(f\"Epoch [{epoch+1}/{num_epochs}], Loss: {epoch_loss:.4f}, Accuracy: {epoch_acc:.4f}\")\n",
    "\n",
    "print('Finished Training')\n"
   ]
  },
  {
   "cell_type": "code",
   "execution_count": 26,
   "id": "774ab684-49a9-4cc5-a004-9316474d4de5",
   "metadata": {
    "execution": {
     "iopub.execute_input": "2024-06-03T10:28:02.090390Z",
     "iopub.status.busy": "2024-06-03T10:28:02.089929Z",
     "iopub.status.idle": "2024-06-03T10:28:02.140980Z",
     "shell.execute_reply": "2024-06-03T10:28:02.140503Z",
     "shell.execute_reply.started": "2024-06-03T10:28:02.090344Z"
    },
    "tags": []
   },
   "outputs": [
    {
     "name": "stdout",
     "output_type": "stream",
     "text": [
      "Model saved as cats_and_dogs_resnet18.pth\n"
     ]
    }
   ],
   "source": [
    "torch.save(model.state_dict(), 'cats_and_dogs_resnet18.pth')\n",
    "print('model saved: cats_and_dogs_resnet18.pth')"
   ]
  },
  {
   "cell_type": "code",
   "execution_count": null,
   "id": "a87048f0-8ea6-40ed-be1b-806fac94bf36",
   "metadata": {},
   "outputs": [],
   "source": []
  }
 ],
 "metadata": {
  "kernelspec": {
   "display_name": "Python 3 (ipykernel)",
   "language": "python",
   "name": "python3"
  },
  "language_info": {
   "codemirror_mode": {
    "name": "ipython",
    "version": 3
   },
   "file_extension": ".py",
   "mimetype": "text/x-python",
   "name": "python",
   "nbconvert_exporter": "python",
   "pygments_lexer": "ipython3",
   "version": "3.8.18"
  }
 },
 "nbformat": 4,
 "nbformat_minor": 5
}
