{
 "cells": [
  {
   "cell_type": "markdown",
   "id": "f0b23a88-bb69-47eb-aec5-2ee549568652",
   "metadata": {},
   "source": [
    "# 1. 数据"
   ]
  },
  {
   "cell_type": "markdown",
   "id": "82bb0166-32f8-43cb-85a6-4382e2a0805f",
   "metadata": {},
   "source": [
    "## 1.1导入库函数"
   ]
  },
  {
   "cell_type": "code",
   "execution_count": 5,
   "id": "d8a7c182-4922-4bd7-a58c-928cb436ee47",
   "metadata": {},
   "outputs": [],
   "source": [
    "import numpy as np # 线性代数相关的库\n",
    "import pandas as pd # 数据处理的库，用于读取csv文件\n",
    "import matplotlib.pyplot as plt # 数据可视化\n",
    "import seaborn as sns # 统计数据可视化"
   ]
  },
  {
   "cell_type": "markdown",
   "id": "27265f66-5297-4211-8b9c-9c363ef2bbb1",
   "metadata": {},
   "source": [
    "## 1.2 导入数据集"
   ]
  },
  {
   "cell_type": "code",
   "execution_count": 6,
   "id": "74897b74-512f-4cc4-8d8d-72aeab7af37b",
   "metadata": {},
   "outputs": [],
   "source": [
    "# data = 'path/to/your/data'\n",
    "data = 'weatherAUS.csv'\n",
    "\n",
    "df = pd.read_csv(data)"
   ]
  },
  {
   "cell_type": "markdown",
   "id": "35d8c1a2-5e48-4804-b696-648ad39e4078",
   "metadata": {},
   "source": [
    "## 1.3 数据探索性分析(EDA)"
   ]
  },
  {
   "cell_type": "markdown",
   "id": "4686f7b6-1430-4b17-99e5-4f307d5c66ad",
   "metadata": {},
   "source": [
    "### 1.3.1 数据的总体分析"
   ]
  },
  {
   "cell_type": "code",
   "execution_count": 7,
   "id": "97bb6154-f613-4901-8b55-7bc13a30897c",
   "metadata": {},
   "outputs": [
    {
     "data": {
      "text/plain": [
       "(145460, 23)"
      ]
     },
     "execution_count": 7,
     "metadata": {},
     "output_type": "execute_result"
    }
   ],
   "source": [
    "# 查看数据集的维度\n",
    "\n",
    "df.shape"
   ]
  },
  {
   "cell_type": "raw",
   "id": "6b10cbe6-338f-4477-b0d1-1b916ad842bf",
   "metadata": {},
   "source": [
    "可以看到数据集中包含145460个实例和23个特征"
   ]
  },
  {
   "cell_type": "code",
   "execution_count": 8,
   "id": "6b561c51-7a0e-438f-acd0-2595eaa5ef50",
   "metadata": {},
   "outputs": [
    {
     "data": {
      "text/html": [
       "<div>\n",
       "<style scoped>\n",
       "    .dataframe tbody tr th:only-of-type {\n",
       "        vertical-align: middle;\n",
       "    }\n",
       "\n",
       "    .dataframe tbody tr th {\n",
       "        vertical-align: top;\n",
       "    }\n",
       "\n",
       "    .dataframe thead th {\n",
       "        text-align: right;\n",
       "    }\n",
       "</style>\n",
       "<table border=\"1\" class=\"dataframe\">\n",
       "  <thead>\n",
       "    <tr style=\"text-align: right;\">\n",
       "      <th></th>\n",
       "      <th>Date</th>\n",
       "      <th>Location</th>\n",
       "      <th>MinTemp</th>\n",
       "      <th>MaxTemp</th>\n",
       "      <th>Rainfall</th>\n",
       "      <th>Evaporation</th>\n",
       "      <th>Sunshine</th>\n",
       "      <th>WindGustDir</th>\n",
       "      <th>WindGustSpeed</th>\n",
       "      <th>WindDir9am</th>\n",
       "      <th>...</th>\n",
       "      <th>Humidity9am</th>\n",
       "      <th>Humidity3pm</th>\n",
       "      <th>Pressure9am</th>\n",
       "      <th>Pressure3pm</th>\n",
       "      <th>Cloud9am</th>\n",
       "      <th>Cloud3pm</th>\n",
       "      <th>Temp9am</th>\n",
       "      <th>Temp3pm</th>\n",
       "      <th>RainToday</th>\n",
       "      <th>RainTomorrow</th>\n",
       "    </tr>\n",
       "  </thead>\n",
       "  <tbody>\n",
       "    <tr>\n",
       "      <th>0</th>\n",
       "      <td>2008-12-01</td>\n",
       "      <td>Albury</td>\n",
       "      <td>13.4</td>\n",
       "      <td>22.9</td>\n",
       "      <td>0.6</td>\n",
       "      <td>NaN</td>\n",
       "      <td>NaN</td>\n",
       "      <td>W</td>\n",
       "      <td>44.0</td>\n",
       "      <td>W</td>\n",
       "      <td>...</td>\n",
       "      <td>71.0</td>\n",
       "      <td>22.0</td>\n",
       "      <td>1007.7</td>\n",
       "      <td>1007.1</td>\n",
       "      <td>8.0</td>\n",
       "      <td>NaN</td>\n",
       "      <td>16.9</td>\n",
       "      <td>21.8</td>\n",
       "      <td>No</td>\n",
       "      <td>No</td>\n",
       "    </tr>\n",
       "    <tr>\n",
       "      <th>1</th>\n",
       "      <td>2008-12-02</td>\n",
       "      <td>Albury</td>\n",
       "      <td>7.4</td>\n",
       "      <td>25.1</td>\n",
       "      <td>0.0</td>\n",
       "      <td>NaN</td>\n",
       "      <td>NaN</td>\n",
       "      <td>WNW</td>\n",
       "      <td>44.0</td>\n",
       "      <td>NNW</td>\n",
       "      <td>...</td>\n",
       "      <td>44.0</td>\n",
       "      <td>25.0</td>\n",
       "      <td>1010.6</td>\n",
       "      <td>1007.8</td>\n",
       "      <td>NaN</td>\n",
       "      <td>NaN</td>\n",
       "      <td>17.2</td>\n",
       "      <td>24.3</td>\n",
       "      <td>No</td>\n",
       "      <td>No</td>\n",
       "    </tr>\n",
       "    <tr>\n",
       "      <th>2</th>\n",
       "      <td>2008-12-03</td>\n",
       "      <td>Albury</td>\n",
       "      <td>12.9</td>\n",
       "      <td>25.7</td>\n",
       "      <td>0.0</td>\n",
       "      <td>NaN</td>\n",
       "      <td>NaN</td>\n",
       "      <td>WSW</td>\n",
       "      <td>46.0</td>\n",
       "      <td>W</td>\n",
       "      <td>...</td>\n",
       "      <td>38.0</td>\n",
       "      <td>30.0</td>\n",
       "      <td>1007.6</td>\n",
       "      <td>1008.7</td>\n",
       "      <td>NaN</td>\n",
       "      <td>2.0</td>\n",
       "      <td>21.0</td>\n",
       "      <td>23.2</td>\n",
       "      <td>No</td>\n",
       "      <td>No</td>\n",
       "    </tr>\n",
       "    <tr>\n",
       "      <th>3</th>\n",
       "      <td>2008-12-04</td>\n",
       "      <td>Albury</td>\n",
       "      <td>9.2</td>\n",
       "      <td>28.0</td>\n",
       "      <td>0.0</td>\n",
       "      <td>NaN</td>\n",
       "      <td>NaN</td>\n",
       "      <td>NE</td>\n",
       "      <td>24.0</td>\n",
       "      <td>SE</td>\n",
       "      <td>...</td>\n",
       "      <td>45.0</td>\n",
       "      <td>16.0</td>\n",
       "      <td>1017.6</td>\n",
       "      <td>1012.8</td>\n",
       "      <td>NaN</td>\n",
       "      <td>NaN</td>\n",
       "      <td>18.1</td>\n",
       "      <td>26.5</td>\n",
       "      <td>No</td>\n",
       "      <td>No</td>\n",
       "    </tr>\n",
       "    <tr>\n",
       "      <th>4</th>\n",
       "      <td>2008-12-05</td>\n",
       "      <td>Albury</td>\n",
       "      <td>17.5</td>\n",
       "      <td>32.3</td>\n",
       "      <td>1.0</td>\n",
       "      <td>NaN</td>\n",
       "      <td>NaN</td>\n",
       "      <td>W</td>\n",
       "      <td>41.0</td>\n",
       "      <td>ENE</td>\n",
       "      <td>...</td>\n",
       "      <td>82.0</td>\n",
       "      <td>33.0</td>\n",
       "      <td>1010.8</td>\n",
       "      <td>1006.0</td>\n",
       "      <td>7.0</td>\n",
       "      <td>8.0</td>\n",
       "      <td>17.8</td>\n",
       "      <td>29.7</td>\n",
       "      <td>No</td>\n",
       "      <td>No</td>\n",
       "    </tr>\n",
       "  </tbody>\n",
       "</table>\n",
       "<p>5 rows × 23 columns</p>\n",
       "</div>"
      ],
      "text/plain": [
       "         Date Location  MinTemp  MaxTemp  Rainfall  Evaporation  Sunshine  \\\n",
       "0  2008-12-01   Albury     13.4     22.9       0.6          NaN       NaN   \n",
       "1  2008-12-02   Albury      7.4     25.1       0.0          NaN       NaN   \n",
       "2  2008-12-03   Albury     12.9     25.7       0.0          NaN       NaN   \n",
       "3  2008-12-04   Albury      9.2     28.0       0.0          NaN       NaN   \n",
       "4  2008-12-05   Albury     17.5     32.3       1.0          NaN       NaN   \n",
       "\n",
       "  WindGustDir  WindGustSpeed WindDir9am  ... Humidity9am  Humidity3pm  \\\n",
       "0           W           44.0          W  ...        71.0         22.0   \n",
       "1         WNW           44.0        NNW  ...        44.0         25.0   \n",
       "2         WSW           46.0          W  ...        38.0         30.0   \n",
       "3          NE           24.0         SE  ...        45.0         16.0   \n",
       "4           W           41.0        ENE  ...        82.0         33.0   \n",
       "\n",
       "   Pressure9am  Pressure3pm  Cloud9am  Cloud3pm  Temp9am  Temp3pm  RainToday  \\\n",
       "0       1007.7       1007.1       8.0       NaN     16.9     21.8         No   \n",
       "1       1010.6       1007.8       NaN       NaN     17.2     24.3         No   \n",
       "2       1007.6       1008.7       NaN       2.0     21.0     23.2         No   \n",
       "3       1017.6       1012.8       NaN       NaN     18.1     26.5         No   \n",
       "4       1010.8       1006.0       7.0       8.0     17.8     29.7         No   \n",
       "\n",
       "   RainTomorrow  \n",
       "0            No  \n",
       "1            No  \n",
       "2            No  \n",
       "3            No  \n",
       "4            No  \n",
       "\n",
       "[5 rows x 23 columns]"
      ]
     },
     "execution_count": 8,
     "metadata": {},
     "output_type": "execute_result"
    }
   ],
   "source": [
    "# 观察数据集的前五行数据\n",
    "\n",
    "df.head()"
   ]
  },
  {
   "cell_type": "code",
   "execution_count": 9,
   "id": "6734fac1-6b9b-4055-8963-844dd20ab460",
   "metadata": {},
   "outputs": [
    {
     "data": {
      "text/plain": [
       "Index(['Date', 'Location', 'MinTemp', 'MaxTemp', 'Rainfall', 'Evaporation',\n",
       "       'Sunshine', 'WindGustDir', 'WindGustSpeed', 'WindDir9am', 'WindDir3pm',\n",
       "       'WindSpeed9am', 'WindSpeed3pm', 'Humidity9am', 'Humidity3pm',\n",
       "       'Pressure9am', 'Pressure3pm', 'Cloud9am', 'Cloud3pm', 'Temp9am',\n",
       "       'Temp3pm', 'RainToday', 'RainTomorrow'],\n",
       "      dtype='object')"
      ]
     },
     "execution_count": 9,
     "metadata": {},
     "output_type": "execute_result"
    }
   ],
   "source": [
    "# 查看各列的名字叫什么\n",
    "col_names = df.columns\n",
    "\n",
    "col_names "
   ]
  },
  {
   "cell_type": "code",
   "execution_count": 10,
   "id": "ed866cb4-a9d8-4e95-a57c-a69c64f3f00d",
   "metadata": {},
   "outputs": [
    {
     "name": "stdout",
     "output_type": "stream",
     "text": [
      "<class 'pandas.core.frame.DataFrame'>\n",
      "RangeIndex: 145460 entries, 0 to 145459\n",
      "Data columns (total 23 columns):\n",
      " #   Column         Non-Null Count   Dtype  \n",
      "---  ------         --------------   -----  \n",
      " 0   Date           145460 non-null  object \n",
      " 1   Location       145460 non-null  object \n",
      " 2   MinTemp        143975 non-null  float64\n",
      " 3   MaxTemp        144199 non-null  float64\n",
      " 4   Rainfall       142199 non-null  float64\n",
      " 5   Evaporation    82670 non-null   float64\n",
      " 6   Sunshine       75625 non-null   float64\n",
      " 7   WindGustDir    135134 non-null  object \n",
      " 8   WindGustSpeed  135197 non-null  float64\n",
      " 9   WindDir9am     134894 non-null  object \n",
      " 10  WindDir3pm     141232 non-null  object \n",
      " 11  WindSpeed9am   143693 non-null  float64\n",
      " 12  WindSpeed3pm   142398 non-null  float64\n",
      " 13  Humidity9am    142806 non-null  float64\n",
      " 14  Humidity3pm    140953 non-null  float64\n",
      " 15  Pressure9am    130395 non-null  float64\n",
      " 16  Pressure3pm    130432 non-null  float64\n",
      " 17  Cloud9am       89572 non-null   float64\n",
      " 18  Cloud3pm       86102 non-null   float64\n",
      " 19  Temp9am        143693 non-null  float64\n",
      " 20  Temp3pm        141851 non-null  float64\n",
      " 21  RainToday      142199 non-null  object \n",
      " 22  RainTomorrow   142193 non-null  object \n",
      "dtypes: float64(16), object(7)\n",
      "memory usage: 25.5+ MB\n"
     ]
    }
   ],
   "source": [
    "# 查看数据集的总结\n",
    "\n",
    "df.info()"
   ]
  },
  {
   "cell_type": "markdown",
   "id": "816d5f2c-8095-413f-977e-28bdba84e98f",
   "metadata": {},
   "source": [
    "\n",
    "| 列名            | 描述                                                    |\n",
    "|----------------|---------------------------------------------------------|\n",
    "| Date           | 观察日期                                                |\n",
    "| Location       | 获取该信息的气象站的名称                                |\n",
    "| MinTemp        | 以摄氏度为单位的低温度                                  |\n",
    "| MaxTemp        | 以摄氏度为单位的高温度                                  |\n",
    "| Rainfall       | 当天记录的降雨量，单位为mm                               |\n",
    "| Evaporation    | 到早上9点之前的24小时的A级蒸发量(mm)                   |\n",
    "| Sunshine       | 白日受到日照的完整小时                                  |\n",
    "| WindGustDir    | 在到午夜12点前的24小时中的强风的风向                    |\n",
    "| WindGustSpeed  | 在到午夜12点前的24小时中的强风速(km/h)                  |\n",
    "| WindDir9am     | 上午9点时的风向                                          |\n",
    "| WindDir3pm     | 下午3点时的风向                                          |\n",
    "| WindSpeed9am   | 上午9点之前每个十分钟的风速的平均值(km/h)              |\n",
    "| WindSpeed3pm   | 下午3点之前每个十分钟的风速的平均值(km/h)              |\n",
    "| Humidity9am    | 上午9点的湿度(百分比)                                   |\n",
    "| Humidity3am    | 下午3点的湿度(百分比)                                   |\n",
    "| Pressure9am    | 上午9点平均海平面上的大气压(hpa)                        |\n",
    "| Pressure3pm    | 下午3点平均海平面上的大气压(hpa)                        |\n",
    "| Cloud9am       | 上午9点的天空被云层遮蔽的程度，0表示完全晴朗的天空，8表示完全阴天 |\n",
    "| Cloud3pm       | 下午3点的天空被云层遮蔽的程度                            |\n",
    "| Temp9am        | 上午9点的摄氏度温度           |\n",
    "| Temp3pm        | 下午3点的摄氏度温度                        |\n",
    "| RainToday        | 今天是否下雨                      |\n",
    "| RainTomorrow        | 明天是否下雨                       |"
   ]
  },
  {
   "cell_type": "markdown",
   "id": "60df1b86-903b-4ad5-b046-008f842192de",
   "metadata": {},
   "source": [
    "### 1.3.2 特征的种类"
   ]
  },
  {
   "cell_type": "markdown",
   "id": "6e3c5d79-4888-4211-b74a-8a4084c95253",
   "metadata": {},
   "source": [
    "数据集的所有特征分为了分类变量和数值型变量。分类变量具有对象数据类型。 数值型变量的数据类型为 float64。\n",
    "\n",
    "- 思考：为什么要区分出数值型变量和非数值型变量？ 拓展：了解nlp任务中常用的word2vec等技术。"
   ]
  },
  {
   "cell_type": "code",
   "execution_count": 11,
   "id": "dccca4f5-7b09-46ce-928d-3aadcd067504",
   "metadata": {},
   "outputs": [
    {
     "name": "stdout",
     "output_type": "stream",
     "text": [
      "There are 7 categorical variables\n",
      "\n",
      "The categorical variables are : ['Date', 'Location', 'WindGustDir', 'WindDir9am', 'WindDir3pm', 'RainToday', 'RainTomorrow']\n"
     ]
    }
   ],
   "source": [
    "# 查找分类变量\n",
    "\n",
    "categorical = [var for var in df.columns if df[var].dtype=='O']\n",
    "\n",
    "print('There are {} categorical variables\\n'.format(len(categorical)))\n",
    "\n",
    "print('The categorical variables are :', categorical)"
   ]
  },
  {
   "cell_type": "code",
   "execution_count": 12,
   "id": "753d1f7e-d4de-4349-b297-6458e8631f23",
   "metadata": {},
   "outputs": [
    {
     "data": {
      "text/html": [
       "<div>\n",
       "<style scoped>\n",
       "    .dataframe tbody tr th:only-of-type {\n",
       "        vertical-align: middle;\n",
       "    }\n",
       "\n",
       "    .dataframe tbody tr th {\n",
       "        vertical-align: top;\n",
       "    }\n",
       "\n",
       "    .dataframe thead th {\n",
       "        text-align: right;\n",
       "    }\n",
       "</style>\n",
       "<table border=\"1\" class=\"dataframe\">\n",
       "  <thead>\n",
       "    <tr style=\"text-align: right;\">\n",
       "      <th></th>\n",
       "      <th>Date</th>\n",
       "      <th>Location</th>\n",
       "      <th>WindGustDir</th>\n",
       "      <th>WindDir9am</th>\n",
       "      <th>WindDir3pm</th>\n",
       "      <th>RainToday</th>\n",
       "      <th>RainTomorrow</th>\n",
       "    </tr>\n",
       "  </thead>\n",
       "  <tbody>\n",
       "    <tr>\n",
       "      <th>0</th>\n",
       "      <td>2008-12-01</td>\n",
       "      <td>Albury</td>\n",
       "      <td>W</td>\n",
       "      <td>W</td>\n",
       "      <td>WNW</td>\n",
       "      <td>No</td>\n",
       "      <td>No</td>\n",
       "    </tr>\n",
       "    <tr>\n",
       "      <th>1</th>\n",
       "      <td>2008-12-02</td>\n",
       "      <td>Albury</td>\n",
       "      <td>WNW</td>\n",
       "      <td>NNW</td>\n",
       "      <td>WSW</td>\n",
       "      <td>No</td>\n",
       "      <td>No</td>\n",
       "    </tr>\n",
       "    <tr>\n",
       "      <th>2</th>\n",
       "      <td>2008-12-03</td>\n",
       "      <td>Albury</td>\n",
       "      <td>WSW</td>\n",
       "      <td>W</td>\n",
       "      <td>WSW</td>\n",
       "      <td>No</td>\n",
       "      <td>No</td>\n",
       "    </tr>\n",
       "    <tr>\n",
       "      <th>3</th>\n",
       "      <td>2008-12-04</td>\n",
       "      <td>Albury</td>\n",
       "      <td>NE</td>\n",
       "      <td>SE</td>\n",
       "      <td>E</td>\n",
       "      <td>No</td>\n",
       "      <td>No</td>\n",
       "    </tr>\n",
       "    <tr>\n",
       "      <th>4</th>\n",
       "      <td>2008-12-05</td>\n",
       "      <td>Albury</td>\n",
       "      <td>W</td>\n",
       "      <td>ENE</td>\n",
       "      <td>NW</td>\n",
       "      <td>No</td>\n",
       "      <td>No</td>\n",
       "    </tr>\n",
       "  </tbody>\n",
       "</table>\n",
       "</div>"
      ],
      "text/plain": [
       "         Date Location WindGustDir WindDir9am WindDir3pm RainToday  \\\n",
       "0  2008-12-01   Albury           W          W        WNW        No   \n",
       "1  2008-12-02   Albury         WNW        NNW        WSW        No   \n",
       "2  2008-12-03   Albury         WSW          W        WSW        No   \n",
       "3  2008-12-04   Albury          NE         SE          E        No   \n",
       "4  2008-12-05   Albury           W        ENE         NW        No   \n",
       "\n",
       "  RainTomorrow  \n",
       "0           No  \n",
       "1           No  \n",
       "2           No  \n",
       "3           No  \n",
       "4           No  "
      ]
     },
     "execution_count": 12,
     "metadata": {},
     "output_type": "execute_result"
    }
   ],
   "source": [
    "# 查看筛选出分类变量的数据集的前五行\n",
    "\n",
    "df[categorical].head()"
   ]
  },
  {
   "cell_type": "markdown",
   "id": "f83c5f33-94a6-4321-9fe3-c116f12209e5",
   "metadata": {},
   "source": [
    "#### 分类变量摘要\n",
    "\n",
    "\n",
    "- 有一个日期变量。 它由“日期”列表示。\n",
    "\n",
    "\n",
    "- 有 6 个分类变量。 这些由“Location”、“WindGustDir”、“WindDir9am”、“WindDir3pm”、“RainToday”和“RainTomorrow”给出。\n",
    "\n",
    "\n",
    "- 有两个二元分类变量 - `RainToday` 和 `RainTomorrow`。\n",
    "\n",
    "\n",
    "- `RainTomorrow` 是目标变量，也就是我们要预测的分类。"
   ]
  },
  {
   "cell_type": "markdown",
   "id": "0fffde86-c911-437e-b187-2346e4779a0c",
   "metadata": {},
   "source": [
    "### 1.3.3 探究分类变量"
   ]
  },
  {
   "cell_type": "raw",
   "id": "dea28dcc-0dd2-475a-a72f-3e81e6602b86",
   "metadata": {},
   "source": [
    "检查有无缺失值"
   ]
  },
  {
   "cell_type": "code",
   "execution_count": 13,
   "id": "7f5ced92-071b-4b89-bfeb-acc3500d9062",
   "metadata": {},
   "outputs": [
    {
     "data": {
      "text/plain": [
       "Date                0\n",
       "Location            0\n",
       "WindGustDir     10326\n",
       "WindDir9am      10566\n",
       "WindDir3pm       4228\n",
       "RainToday        3261\n",
       "RainTomorrow     3267\n",
       "dtype: int64"
      ]
     },
     "execution_count": 13,
     "metadata": {},
     "output_type": "execute_result"
    }
   ],
   "source": [
    "# 检查分类变量中的缺失值\n",
    "\n",
    "df[categorical].isnull().sum()"
   ]
  },
  {
   "cell_type": "code",
   "execution_count": 14,
   "id": "bff13747-c38a-4da3-8d62-af503d80beb5",
   "metadata": {},
   "outputs": [
    {
     "name": "stdout",
     "output_type": "stream",
     "text": [
      "WindGustDir     10326\n",
      "WindDir9am      10566\n",
      "WindDir3pm       4228\n",
      "RainToday        3261\n",
      "RainTomorrow     3267\n",
      "dtype: int64\n"
     ]
    }
   ],
   "source": [
    "# 打印包含缺失值的类别变量\n",
    "\n",
    "cat1 = [var for var in categorical if df[var].isnull().sum()!=0]\n",
    "\n",
    "print(df[cat1].isnull().sum())"
   ]
  },
  {
   "cell_type": "raw",
   "id": "b699c529-ef1a-48f4-ac94-23c3ec2c9064",
   "metadata": {},
   "source": [
    "我们可以看到数据集中只有 5 个类别变量包含缺失值。 它们是“WindGustDir”、“WindDir9am”、“WindDir3pm”、“RainToday”和“RainTomorrow”。\n",
    "\n",
    "这告诉我们，在数据预处理步骤中需要处理这四个特征变量中的缺失值。\n",
    "\n",
    "同时我们可以看到有一个“Date”变量需要预处理。因为“Date”的格式为yyyy/mm/dd,不符合能够直接处理的格式。"
   ]
  },
  {
   "cell_type": "markdown",
   "id": "0bca34af-fc6b-4846-84e2-70b393f19c88",
   "metadata": {},
   "source": [
    "### 1.3.4 探索 `Location` 变量"
   ]
  },
  {
   "cell_type": "code",
   "execution_count": 15,
   "id": "ad6f9c77-ee87-4626-93ca-75938a4aa20a",
   "metadata": {},
   "outputs": [
    {
     "name": "stdout",
     "output_type": "stream",
     "text": [
      "Location contains 49 labels\n"
     ]
    }
   ],
   "source": [
    "# 打印位置变量中的标签数量\n",
    "\n",
    "print('Location contains', len(df.Location.unique()), 'labels')"
   ]
  },
  {
   "cell_type": "code",
   "execution_count": 16,
   "id": "3d18052b-94b8-4581-afd0-cbf5464a1155",
   "metadata": {
    "scrolled": true
   },
   "outputs": [
    {
     "data": {
      "text/plain": [
       "array(['Albury', 'BadgerysCreek', 'Cobar', 'CoffsHarbour', 'Moree',\n",
       "       'Newcastle', 'NorahHead', 'NorfolkIsland', 'Penrith', 'Richmond',\n",
       "       'Sydney', 'SydneyAirport', 'WaggaWagga', 'Williamtown',\n",
       "       'Wollongong', 'Canberra', 'Tuggeranong', 'MountGinini', 'Ballarat',\n",
       "       'Bendigo', 'Sale', 'MelbourneAirport', 'Melbourne', 'Mildura',\n",
       "       'Nhil', 'Portland', 'Watsonia', 'Dartmoor', 'Brisbane', 'Cairns',\n",
       "       'GoldCoast', 'Townsville', 'Adelaide', 'MountGambier', 'Nuriootpa',\n",
       "       'Woomera', 'Albany', 'Witchcliffe', 'PearceRAAF', 'PerthAirport',\n",
       "       'Perth', 'SalmonGums', 'Walpole', 'Hobart', 'Launceston',\n",
       "       'AliceSprings', 'Darwin', 'Katherine', 'Uluru'], dtype=object)"
      ]
     },
     "execution_count": 16,
     "metadata": {},
     "output_type": "execute_result"
    }
   ],
   "source": [
    "# 检查位置变量中的标签\n",
    "\n",
    "df.Location.unique()"
   ]
  },
  {
   "cell_type": "code",
   "execution_count": 17,
   "id": "c14fa743-cb8f-46cd-933e-68711fc4b650",
   "metadata": {},
   "outputs": [
    {
     "data": {
      "text/plain": [
       "Location\n",
       "Canberra            3436\n",
       "Sydney              3344\n",
       "Darwin              3193\n",
       "Melbourne           3193\n",
       "Brisbane            3193\n",
       "Adelaide            3193\n",
       "Perth               3193\n",
       "Hobart              3193\n",
       "Albany              3040\n",
       "MountGambier        3040\n",
       "Ballarat            3040\n",
       "Townsville          3040\n",
       "GoldCoast           3040\n",
       "Cairns              3040\n",
       "Launceston          3040\n",
       "AliceSprings        3040\n",
       "Bendigo             3040\n",
       "Albury              3040\n",
       "MountGinini         3040\n",
       "Wollongong          3040\n",
       "Newcastle           3039\n",
       "Tuggeranong         3039\n",
       "Penrith             3039\n",
       "Woomera             3009\n",
       "Nuriootpa           3009\n",
       "Cobar               3009\n",
       "CoffsHarbour        3009\n",
       "Moree               3009\n",
       "Sale                3009\n",
       "PerthAirport        3009\n",
       "PearceRAAF          3009\n",
       "Witchcliffe         3009\n",
       "BadgerysCreek       3009\n",
       "Mildura             3009\n",
       "NorfolkIsland       3009\n",
       "MelbourneAirport    3009\n",
       "Richmond            3009\n",
       "SydneyAirport       3009\n",
       "WaggaWagga          3009\n",
       "Williamtown         3009\n",
       "Dartmoor            3009\n",
       "Watsonia            3009\n",
       "Portland            3009\n",
       "Walpole             3006\n",
       "NorahHead           3004\n",
       "SalmonGums          3001\n",
       "Katherine           1578\n",
       "Nhil                1578\n",
       "Uluru               1578\n",
       "Name: count, dtype: int64"
      ]
     },
     "execution_count": 17,
     "metadata": {},
     "output_type": "execute_result"
    }
   ],
   "source": [
    "# 检查位置变量中值的频率分布\n",
    "\n",
    "df.Location.value_counts()"
   ]
  },
  {
   "cell_type": "markdown",
   "id": "a75c4d15-d35d-43b1-ac84-5a2710794dc0",
   "metadata": {},
   "source": [
    "#### 独热编码(one hot)\n",
    "在进行独热编码时，通常会将分类变量转换为属性的形式，而不是直接转化为数字大小。这是因为分类变量通常表示的是无序的类别，而不是具有大小顺序的数值。将分类变量转换为数字大小可能会误导模型，使其错误地认为不同类别之间存在一种顺序关系。\n",
    "\n",
    "独热编码将每个可能的类别转换为一个二进制属性（或称为 dummy 变量），每个属性代表一个类别，只有在该类别下的样本具有该属性的值为1，其他样本的值为0。这种表示方法能够很好地保留分类变量的信息，而不引入任何假设关于类别之间的顺序或大小关系。关系。"
   ]
  },
  {
   "cell_type": "code",
   "execution_count": 18,
   "id": "1f880bac-d9bc-4a19-b599-b0e23224d2fc",
   "metadata": {},
   "outputs": [
    {
     "data": {
      "text/html": [
       "<div>\n",
       "<style scoped>\n",
       "    .dataframe tbody tr th:only-of-type {\n",
       "        vertical-align: middle;\n",
       "    }\n",
       "\n",
       "    .dataframe tbody tr th {\n",
       "        vertical-align: top;\n",
       "    }\n",
       "\n",
       "    .dataframe thead th {\n",
       "        text-align: right;\n",
       "    }\n",
       "</style>\n",
       "<table border=\"1\" class=\"dataframe\">\n",
       "  <thead>\n",
       "    <tr style=\"text-align: right;\">\n",
       "      <th></th>\n",
       "      <th>Albany</th>\n",
       "      <th>Albury</th>\n",
       "      <th>AliceSprings</th>\n",
       "      <th>BadgerysCreek</th>\n",
       "      <th>Ballarat</th>\n",
       "      <th>Bendigo</th>\n",
       "      <th>Brisbane</th>\n",
       "      <th>Cairns</th>\n",
       "      <th>Canberra</th>\n",
       "      <th>Cobar</th>\n",
       "      <th>...</th>\n",
       "      <th>Townsville</th>\n",
       "      <th>Tuggeranong</th>\n",
       "      <th>Uluru</th>\n",
       "      <th>WaggaWagga</th>\n",
       "      <th>Walpole</th>\n",
       "      <th>Watsonia</th>\n",
       "      <th>Williamtown</th>\n",
       "      <th>Witchcliffe</th>\n",
       "      <th>Wollongong</th>\n",
       "      <th>Woomera</th>\n",
       "    </tr>\n",
       "  </thead>\n",
       "  <tbody>\n",
       "    <tr>\n",
       "      <th>0</th>\n",
       "      <td>False</td>\n",
       "      <td>True</td>\n",
       "      <td>False</td>\n",
       "      <td>False</td>\n",
       "      <td>False</td>\n",
       "      <td>False</td>\n",
       "      <td>False</td>\n",
       "      <td>False</td>\n",
       "      <td>False</td>\n",
       "      <td>False</td>\n",
       "      <td>...</td>\n",
       "      <td>False</td>\n",
       "      <td>False</td>\n",
       "      <td>False</td>\n",
       "      <td>False</td>\n",
       "      <td>False</td>\n",
       "      <td>False</td>\n",
       "      <td>False</td>\n",
       "      <td>False</td>\n",
       "      <td>False</td>\n",
       "      <td>False</td>\n",
       "    </tr>\n",
       "    <tr>\n",
       "      <th>1</th>\n",
       "      <td>False</td>\n",
       "      <td>True</td>\n",
       "      <td>False</td>\n",
       "      <td>False</td>\n",
       "      <td>False</td>\n",
       "      <td>False</td>\n",
       "      <td>False</td>\n",
       "      <td>False</td>\n",
       "      <td>False</td>\n",
       "      <td>False</td>\n",
       "      <td>...</td>\n",
       "      <td>False</td>\n",
       "      <td>False</td>\n",
       "      <td>False</td>\n",
       "      <td>False</td>\n",
       "      <td>False</td>\n",
       "      <td>False</td>\n",
       "      <td>False</td>\n",
       "      <td>False</td>\n",
       "      <td>False</td>\n",
       "      <td>False</td>\n",
       "    </tr>\n",
       "    <tr>\n",
       "      <th>2</th>\n",
       "      <td>False</td>\n",
       "      <td>True</td>\n",
       "      <td>False</td>\n",
       "      <td>False</td>\n",
       "      <td>False</td>\n",
       "      <td>False</td>\n",
       "      <td>False</td>\n",
       "      <td>False</td>\n",
       "      <td>False</td>\n",
       "      <td>False</td>\n",
       "      <td>...</td>\n",
       "      <td>False</td>\n",
       "      <td>False</td>\n",
       "      <td>False</td>\n",
       "      <td>False</td>\n",
       "      <td>False</td>\n",
       "      <td>False</td>\n",
       "      <td>False</td>\n",
       "      <td>False</td>\n",
       "      <td>False</td>\n",
       "      <td>False</td>\n",
       "    </tr>\n",
       "    <tr>\n",
       "      <th>3</th>\n",
       "      <td>False</td>\n",
       "      <td>True</td>\n",
       "      <td>False</td>\n",
       "      <td>False</td>\n",
       "      <td>False</td>\n",
       "      <td>False</td>\n",
       "      <td>False</td>\n",
       "      <td>False</td>\n",
       "      <td>False</td>\n",
       "      <td>False</td>\n",
       "      <td>...</td>\n",
       "      <td>False</td>\n",
       "      <td>False</td>\n",
       "      <td>False</td>\n",
       "      <td>False</td>\n",
       "      <td>False</td>\n",
       "      <td>False</td>\n",
       "      <td>False</td>\n",
       "      <td>False</td>\n",
       "      <td>False</td>\n",
       "      <td>False</td>\n",
       "    </tr>\n",
       "    <tr>\n",
       "      <th>4</th>\n",
       "      <td>False</td>\n",
       "      <td>True</td>\n",
       "      <td>False</td>\n",
       "      <td>False</td>\n",
       "      <td>False</td>\n",
       "      <td>False</td>\n",
       "      <td>False</td>\n",
       "      <td>False</td>\n",
       "      <td>False</td>\n",
       "      <td>False</td>\n",
       "      <td>...</td>\n",
       "      <td>False</td>\n",
       "      <td>False</td>\n",
       "      <td>False</td>\n",
       "      <td>False</td>\n",
       "      <td>False</td>\n",
       "      <td>False</td>\n",
       "      <td>False</td>\n",
       "      <td>False</td>\n",
       "      <td>False</td>\n",
       "      <td>False</td>\n",
       "    </tr>\n",
       "  </tbody>\n",
       "</table>\n",
       "<p>5 rows × 48 columns</p>\n",
       "</div>"
      ],
      "text/plain": [
       "   Albany  Albury  AliceSprings  BadgerysCreek  Ballarat  Bendigo  Brisbane  \\\n",
       "0   False    True         False          False     False    False     False   \n",
       "1   False    True         False          False     False    False     False   \n",
       "2   False    True         False          False     False    False     False   \n",
       "3   False    True         False          False     False    False     False   \n",
       "4   False    True         False          False     False    False     False   \n",
       "\n",
       "   Cairns  Canberra  Cobar  ...  Townsville  Tuggeranong  Uluru  WaggaWagga  \\\n",
       "0   False     False  False  ...       False        False  False       False   \n",
       "1   False     False  False  ...       False        False  False       False   \n",
       "2   False     False  False  ...       False        False  False       False   \n",
       "3   False     False  False  ...       False        False  False       False   \n",
       "4   False     False  False  ...       False        False  False       False   \n",
       "\n",
       "   Walpole  Watsonia  Williamtown  Witchcliffe  Wollongong  Woomera  \n",
       "0    False     False        False        False       False    False  \n",
       "1    False     False        False        False       False    False  \n",
       "2    False     False        False        False       False    False  \n",
       "3    False     False        False        False       False    False  \n",
       "4    False     False        False        False       False    False  \n",
       "\n",
       "[5 rows x 48 columns]"
      ]
     },
     "execution_count": 18,
     "metadata": {},
     "output_type": "execute_result"
    }
   ],
   "source": [
    "# 让我们对位置变量进行一次热编码\n",
    "# One Hot Encoding 后得到 k-1 个虚拟变量\n",
    "# 使用 head() 方法预览数据集\n",
    "#drop_first 为是否删除每一个特征的第一个级别用以避免多重线性问题\n",
    "\n",
    "pd.get_dummies(df.Location, drop_first=True).head()"
   ]
  },
  {
   "cell_type": "markdown",
   "id": "522e559b-0c85-4a3e-a998-aa12e3e50ec3",
   "metadata": {},
   "source": [
    "**同样的，我们还可以对其他的分类变量进行探索。**"
   ]
  },
  {
   "cell_type": "markdown",
   "id": "14d7f104-6202-4eb9-bd6d-9ac031da9337",
   "metadata": {},
   "source": [
    "### 1.3.5 探索数值变量"
   ]
  },
  {
   "cell_type": "code",
   "execution_count": 19,
   "id": "a531b4fb-dbed-4cfe-97cd-66aa6a463210",
   "metadata": {},
   "outputs": [
    {
     "name": "stdout",
     "output_type": "stream",
     "text": [
      "There are 16 numerical variables\n",
      "\n",
      "The numerical variables are : ['MinTemp', 'MaxTemp', 'Rainfall', 'Evaporation', 'Sunshine', 'WindGustSpeed', 'WindSpeed9am', 'WindSpeed3pm', 'Humidity9am', 'Humidity3pm', 'Pressure9am', 'Pressure3pm', 'Cloud9am', 'Cloud3pm', 'Temp9am', 'Temp3pm']\n"
     ]
    }
   ],
   "source": [
    "# 查找数值变量\n",
    "\n",
    "numerical = [var for var in df.columns if df[var].dtype!='O']\n",
    "\n",
    "print('There are {} numerical variables\\n'.format(len(numerical)))\n",
    "\n",
    "print('The numerical variables are :', numerical)"
   ]
  },
  {
   "cell_type": "code",
   "execution_count": 20,
   "id": "717d9802-7c41-4759-ac4f-24267ceacd4e",
   "metadata": {
    "scrolled": true
   },
   "outputs": [
    {
     "data": {
      "text/html": [
       "<div>\n",
       "<style scoped>\n",
       "    .dataframe tbody tr th:only-of-type {\n",
       "        vertical-align: middle;\n",
       "    }\n",
       "\n",
       "    .dataframe tbody tr th {\n",
       "        vertical-align: top;\n",
       "    }\n",
       "\n",
       "    .dataframe thead th {\n",
       "        text-align: right;\n",
       "    }\n",
       "</style>\n",
       "<table border=\"1\" class=\"dataframe\">\n",
       "  <thead>\n",
       "    <tr style=\"text-align: right;\">\n",
       "      <th></th>\n",
       "      <th>MinTemp</th>\n",
       "      <th>MaxTemp</th>\n",
       "      <th>Rainfall</th>\n",
       "      <th>Evaporation</th>\n",
       "      <th>Sunshine</th>\n",
       "      <th>WindGustSpeed</th>\n",
       "      <th>WindSpeed9am</th>\n",
       "      <th>WindSpeed3pm</th>\n",
       "      <th>Humidity9am</th>\n",
       "      <th>Humidity3pm</th>\n",
       "      <th>Pressure9am</th>\n",
       "      <th>Pressure3pm</th>\n",
       "      <th>Cloud9am</th>\n",
       "      <th>Cloud3pm</th>\n",
       "      <th>Temp9am</th>\n",
       "      <th>Temp3pm</th>\n",
       "    </tr>\n",
       "  </thead>\n",
       "  <tbody>\n",
       "    <tr>\n",
       "      <th>0</th>\n",
       "      <td>13.4</td>\n",
       "      <td>22.9</td>\n",
       "      <td>0.6</td>\n",
       "      <td>NaN</td>\n",
       "      <td>NaN</td>\n",
       "      <td>44.0</td>\n",
       "      <td>20.0</td>\n",
       "      <td>24.0</td>\n",
       "      <td>71.0</td>\n",
       "      <td>22.0</td>\n",
       "      <td>1007.7</td>\n",
       "      <td>1007.1</td>\n",
       "      <td>8.0</td>\n",
       "      <td>NaN</td>\n",
       "      <td>16.9</td>\n",
       "      <td>21.8</td>\n",
       "    </tr>\n",
       "    <tr>\n",
       "      <th>1</th>\n",
       "      <td>7.4</td>\n",
       "      <td>25.1</td>\n",
       "      <td>0.0</td>\n",
       "      <td>NaN</td>\n",
       "      <td>NaN</td>\n",
       "      <td>44.0</td>\n",
       "      <td>4.0</td>\n",
       "      <td>22.0</td>\n",
       "      <td>44.0</td>\n",
       "      <td>25.0</td>\n",
       "      <td>1010.6</td>\n",
       "      <td>1007.8</td>\n",
       "      <td>NaN</td>\n",
       "      <td>NaN</td>\n",
       "      <td>17.2</td>\n",
       "      <td>24.3</td>\n",
       "    </tr>\n",
       "    <tr>\n",
       "      <th>2</th>\n",
       "      <td>12.9</td>\n",
       "      <td>25.7</td>\n",
       "      <td>0.0</td>\n",
       "      <td>NaN</td>\n",
       "      <td>NaN</td>\n",
       "      <td>46.0</td>\n",
       "      <td>19.0</td>\n",
       "      <td>26.0</td>\n",
       "      <td>38.0</td>\n",
       "      <td>30.0</td>\n",
       "      <td>1007.6</td>\n",
       "      <td>1008.7</td>\n",
       "      <td>NaN</td>\n",
       "      <td>2.0</td>\n",
       "      <td>21.0</td>\n",
       "      <td>23.2</td>\n",
       "    </tr>\n",
       "    <tr>\n",
       "      <th>3</th>\n",
       "      <td>9.2</td>\n",
       "      <td>28.0</td>\n",
       "      <td>0.0</td>\n",
       "      <td>NaN</td>\n",
       "      <td>NaN</td>\n",
       "      <td>24.0</td>\n",
       "      <td>11.0</td>\n",
       "      <td>9.0</td>\n",
       "      <td>45.0</td>\n",
       "      <td>16.0</td>\n",
       "      <td>1017.6</td>\n",
       "      <td>1012.8</td>\n",
       "      <td>NaN</td>\n",
       "      <td>NaN</td>\n",
       "      <td>18.1</td>\n",
       "      <td>26.5</td>\n",
       "    </tr>\n",
       "    <tr>\n",
       "      <th>4</th>\n",
       "      <td>17.5</td>\n",
       "      <td>32.3</td>\n",
       "      <td>1.0</td>\n",
       "      <td>NaN</td>\n",
       "      <td>NaN</td>\n",
       "      <td>41.0</td>\n",
       "      <td>7.0</td>\n",
       "      <td>20.0</td>\n",
       "      <td>82.0</td>\n",
       "      <td>33.0</td>\n",
       "      <td>1010.8</td>\n",
       "      <td>1006.0</td>\n",
       "      <td>7.0</td>\n",
       "      <td>8.0</td>\n",
       "      <td>17.8</td>\n",
       "      <td>29.7</td>\n",
       "    </tr>\n",
       "  </tbody>\n",
       "</table>\n",
       "</div>"
      ],
      "text/plain": [
       "   MinTemp  MaxTemp  Rainfall  Evaporation  Sunshine  WindGustSpeed  \\\n",
       "0     13.4     22.9       0.6          NaN       NaN           44.0   \n",
       "1      7.4     25.1       0.0          NaN       NaN           44.0   \n",
       "2     12.9     25.7       0.0          NaN       NaN           46.0   \n",
       "3      9.2     28.0       0.0          NaN       NaN           24.0   \n",
       "4     17.5     32.3       1.0          NaN       NaN           41.0   \n",
       "\n",
       "   WindSpeed9am  WindSpeed3pm  Humidity9am  Humidity3pm  Pressure9am  \\\n",
       "0          20.0          24.0         71.0         22.0       1007.7   \n",
       "1           4.0          22.0         44.0         25.0       1010.6   \n",
       "2          19.0          26.0         38.0         30.0       1007.6   \n",
       "3          11.0           9.0         45.0         16.0       1017.6   \n",
       "4           7.0          20.0         82.0         33.0       1010.8   \n",
       "\n",
       "   Pressure3pm  Cloud9am  Cloud3pm  Temp9am  Temp3pm  \n",
       "0       1007.1       8.0       NaN     16.9     21.8  \n",
       "1       1007.8       NaN       NaN     17.2     24.3  \n",
       "2       1008.7       NaN       2.0     21.0     23.2  \n",
       "3       1012.8       NaN       NaN     18.1     26.5  \n",
       "4       1006.0       7.0       8.0     17.8     29.7  "
      ]
     },
     "execution_count": 20,
     "metadata": {},
     "output_type": "execute_result"
    }
   ],
   "source": [
    "# 查看数值变量\n",
    "\n",
    "df[numerical].head()"
   ]
  },
  {
   "cell_type": "markdown",
   "id": "d11dc596-2582-43a1-8d68-4709fad33dc9",
   "metadata": {},
   "source": [
    "### 数值变量总结\n",
    "\n",
    "\n",
    "- 有 16 个数值变量。\n",
    "\n",
    "\n",
    "- 这些由`MinTemp`、`MaxTemp`、`Rainfall`、`Evaporation`、`Sunshine`、`WindGustSpeed`、`WindSpeed9am``WindSpeed3pm`、`Humidity9am`、`Humidity3pm`、`Pressure9am`、`Pressure3pm`、`Cloud9am`、`Cloud3pm`、`Temp9am` 和 `Temp3pm`。\n",
    "\n",
    "\n",
    "- 所有数值变量均为连续类型。"
   ]
  },
  {
   "cell_type": "markdown",
   "id": "14a44499-e097-4cef-b55e-3ab01043dff0",
   "metadata": {},
   "source": [
    "### 1.3.6 探索数值变量中的问题"
   ]
  },
  {
   "cell_type": "code",
   "execution_count": 21,
   "id": "56d43943-04e6-4d32-81eb-a7ac4558ae3d",
   "metadata": {},
   "outputs": [
    {
     "data": {
      "text/plain": [
       "MinTemp           1485\n",
       "MaxTemp           1261\n",
       "Rainfall          3261\n",
       "Evaporation      62790\n",
       "Sunshine         69835\n",
       "WindGustSpeed    10263\n",
       "WindSpeed9am      1767\n",
       "WindSpeed3pm      3062\n",
       "Humidity9am       2654\n",
       "Humidity3pm       4507\n",
       "Pressure9am      15065\n",
       "Pressure3pm      15028\n",
       "Cloud9am         55888\n",
       "Cloud3pm         59358\n",
       "Temp9am           1767\n",
       "Temp3pm           3609\n",
       "dtype: int64"
      ]
     },
     "execution_count": 21,
     "metadata": {},
     "output_type": "execute_result"
    }
   ],
   "source": [
    "# 检查数值变量中的缺失值\n",
    "\n",
    "df[numerical].isnull().sum()"
   ]
  },
  {
   "cell_type": "raw",
   "id": "acca3047-1e2e-4056-b1d4-3e80bd3e1a44",
   "metadata": {},
   "source": [
    "我们可以看到所有 16 个数值变量都包含缺失值。"
   ]
  },
  {
   "cell_type": "code",
   "execution_count": 22,
   "id": "f77dd518-e9bc-48bf-a710-07d66767a383",
   "metadata": {},
   "outputs": [
    {
     "name": "stdout",
     "output_type": "stream",
     "text": [
      "        MinTemp   MaxTemp  Rainfall  Evaporation  Sunshine  WindGustSpeed  \\\n",
      "count  143975.0  144199.0  142199.0      82670.0   75625.0       135197.0   \n",
      "mean       12.0      23.0       2.0          5.0       8.0           40.0   \n",
      "std         6.0       7.0       8.0          4.0       4.0           14.0   \n",
      "min        -8.0      -5.0       0.0          0.0       0.0            6.0   \n",
      "25%         8.0      18.0       0.0          3.0       5.0           31.0   \n",
      "50%        12.0      23.0       0.0          5.0       8.0           39.0   \n",
      "75%        17.0      28.0       1.0          7.0      11.0           48.0   \n",
      "max        34.0      48.0     371.0        145.0      14.0          135.0   \n",
      "\n",
      "       WindSpeed9am  WindSpeed3pm  Humidity9am  Humidity3pm  Pressure9am  \\\n",
      "count      143693.0      142398.0     142806.0     140953.0     130395.0   \n",
      "mean           14.0          19.0         69.0         52.0       1018.0   \n",
      "std             9.0           9.0         19.0         21.0          7.0   \n",
      "min             0.0           0.0          0.0          0.0        980.0   \n",
      "25%             7.0          13.0         57.0         37.0       1013.0   \n",
      "50%            13.0          19.0         70.0         52.0       1018.0   \n",
      "75%            19.0          24.0         83.0         66.0       1022.0   \n",
      "max           130.0          87.0        100.0        100.0       1041.0   \n",
      "\n",
      "       Pressure3pm  Cloud9am  Cloud3pm   Temp9am   Temp3pm  \n",
      "count     130432.0   89572.0   86102.0  143693.0  141851.0  \n",
      "mean        1015.0       4.0       5.0      17.0      22.0  \n",
      "std            7.0       3.0       3.0       6.0       7.0  \n",
      "min          977.0       0.0       0.0      -7.0      -5.0  \n",
      "25%         1010.0       1.0       2.0      12.0      17.0  \n",
      "50%         1015.0       5.0       5.0      17.0      21.0  \n",
      "75%         1020.0       7.0       7.0      22.0      26.0  \n",
      "max         1040.0       9.0       9.0      40.0      47.0   2\n"
     ]
    }
   ],
   "source": [
    "# 查看数值变量中的汇总统计信息\n",
    "\n",
    "print(round(df[numerical].describe()),2)"
   ]
  },
  {
   "cell_type": "raw",
   "id": "7a5f9866-67df-4ae2-8986-970889cba16c",
   "metadata": {},
   "source": [
    "仔细检查后，我们可以发现“Rainfall”、“Evaporation”、“WindSpeed9am”和“WindSpeed3pm”列可能包含异常值。"
   ]
  },
  {
   "cell_type": "markdown",
   "id": "b3153ef4-18e6-4177-aac5-7c3010073ec8",
   "metadata": {},
   "source": [
    "## 拓展1： 如何处理数据中包含的异常值，来让我们的预测结果更加精确？同学们可课后进行尝试。"
   ]
  },
  {
   "cell_type": "markdown",
   "id": "16768709-b0e5-4789-9974-87d0063d558c",
   "metadata": {},
   "source": [
    "## 1.4 数据预处理"
   ]
  },
  {
   "cell_type": "markdown",
   "id": "d41b801a-3a79-4f1f-9b0a-64159fae2afc",
   "metadata": {},
   "source": [
    "### 1.4.1 处理 `Date` 特征变量"
   ]
  },
  {
   "cell_type": "code",
   "execution_count": 23,
   "id": "4fbfe62b-c49e-44e3-ab25-4301c0ba8f30",
   "metadata": {},
   "outputs": [
    {
     "data": {
      "text/plain": [
       "dtype('O')"
      ]
     },
     "execution_count": 23,
     "metadata": {},
     "output_type": "execute_result"
    }
   ],
   "source": [
    "df['Date'].dtypes"
   ]
  },
  {
   "cell_type": "raw",
   "id": "595dbb94-9afb-47ec-8931-5edaf64a2928",
   "metadata": {},
   "source": [
    "我们可以看到`Date`变量的数据类型是object。 我将把当前编码为对象的日期解析为日期时间格式。"
   ]
  },
  {
   "cell_type": "code",
   "execution_count": 24,
   "id": "08be054f-f888-405a-b781-cc7c923c7933",
   "metadata": {},
   "outputs": [],
   "source": [
    "# 将当前编码为字符串的日期解析为日期时间格式\n",
    "\n",
    "df['Date'] = pd.to_datetime(df['Date'])"
   ]
  },
  {
   "cell_type": "code",
   "execution_count": 25,
   "id": "4b7a094f-cab9-4e8f-b50c-46169793d2da",
   "metadata": {},
   "outputs": [],
   "source": [
    "# 从日期中提取年份\n",
    "\n",
    "df['Year'] = df['Date'].dt.year\n",
    "\n",
    "# 从日期中提取月份\n",
    "\n",
    "df['Month'] = df['Date'].dt.month\n",
    "\n",
    "# 从日期中提取日期\n",
    "\n",
    "df['Day'] = df['Date'].dt.month"
   ]
  },
  {
   "cell_type": "code",
   "execution_count": 26,
   "id": "a0def3e1-e397-4583-a08a-8768c3573f38",
   "metadata": {
    "scrolled": true
   },
   "outputs": [
    {
     "name": "stdout",
     "output_type": "stream",
     "text": [
      "<class 'pandas.core.frame.DataFrame'>\n",
      "RangeIndex: 145460 entries, 0 to 145459\n",
      "Data columns (total 26 columns):\n",
      " #   Column         Non-Null Count   Dtype         \n",
      "---  ------         --------------   -----         \n",
      " 0   Date           145460 non-null  datetime64[ns]\n",
      " 1   Location       145460 non-null  object        \n",
      " 2   MinTemp        143975 non-null  float64       \n",
      " 3   MaxTemp        144199 non-null  float64       \n",
      " 4   Rainfall       142199 non-null  float64       \n",
      " 5   Evaporation    82670 non-null   float64       \n",
      " 6   Sunshine       75625 non-null   float64       \n",
      " 7   WindGustDir    135134 non-null  object        \n",
      " 8   WindGustSpeed  135197 non-null  float64       \n",
      " 9   WindDir9am     134894 non-null  object        \n",
      " 10  WindDir3pm     141232 non-null  object        \n",
      " 11  WindSpeed9am   143693 non-null  float64       \n",
      " 12  WindSpeed3pm   142398 non-null  float64       \n",
      " 13  Humidity9am    142806 non-null  float64       \n",
      " 14  Humidity3pm    140953 non-null  float64       \n",
      " 15  Pressure9am    130395 non-null  float64       \n",
      " 16  Pressure3pm    130432 non-null  float64       \n",
      " 17  Cloud9am       89572 non-null   float64       \n",
      " 18  Cloud3pm       86102 non-null   float64       \n",
      " 19  Temp9am        143693 non-null  float64       \n",
      " 20  Temp3pm        141851 non-null  float64       \n",
      " 21  RainToday      142199 non-null  object        \n",
      " 22  RainTomorrow   142193 non-null  object        \n",
      " 23  Year           145460 non-null  int32         \n",
      " 24  Month          145460 non-null  int32         \n",
      " 25  Day            145460 non-null  int32         \n",
      "dtypes: datetime64[ns](1), float64(16), int32(3), object(6)\n",
      "memory usage: 27.2+ MB\n"
     ]
    }
   ],
   "source": [
    "# 再次查看数据集的总结\n",
    "\n",
    "df.info()"
   ]
  },
  {
   "cell_type": "raw",
   "id": "330e4933-0dbe-4884-a127-19e1f1bc4cea",
   "metadata": {},
   "source": [
    "我们可以看到从“Date”变量创建了三个附加列。 现在，我将从数据集中删除原始的“Date”变量。"
   ]
  },
  {
   "cell_type": "code",
   "execution_count": 27,
   "id": "6233f80d-d6b0-4a0c-933b-db52fecefd7e",
   "metadata": {},
   "outputs": [],
   "source": [
    "# 删除原始Date变量\n",
    "# axis为1时对列进行操作，0时对行进行操作， inplace=True 会在原地进行操作，而 inplace=False 则会返回一个修改后的副本而不对原始数据进行修改。\n",
    "df.drop('Date', axis=1, inplace = True)"
   ]
  },
  {
   "cell_type": "code",
   "execution_count": 28,
   "id": "c25ee116-5d09-498d-9045-b60a53b073bb",
   "metadata": {},
   "outputs": [
    {
     "data": {
      "text/html": [
       "<div>\n",
       "<style scoped>\n",
       "    .dataframe tbody tr th:only-of-type {\n",
       "        vertical-align: middle;\n",
       "    }\n",
       "\n",
       "    .dataframe tbody tr th {\n",
       "        vertical-align: top;\n",
       "    }\n",
       "\n",
       "    .dataframe thead th {\n",
       "        text-align: right;\n",
       "    }\n",
       "</style>\n",
       "<table border=\"1\" class=\"dataframe\">\n",
       "  <thead>\n",
       "    <tr style=\"text-align: right;\">\n",
       "      <th></th>\n",
       "      <th>Location</th>\n",
       "      <th>MinTemp</th>\n",
       "      <th>MaxTemp</th>\n",
       "      <th>Rainfall</th>\n",
       "      <th>Evaporation</th>\n",
       "      <th>Sunshine</th>\n",
       "      <th>WindGustDir</th>\n",
       "      <th>WindGustSpeed</th>\n",
       "      <th>WindDir9am</th>\n",
       "      <th>WindDir3pm</th>\n",
       "      <th>...</th>\n",
       "      <th>Pressure3pm</th>\n",
       "      <th>Cloud9am</th>\n",
       "      <th>Cloud3pm</th>\n",
       "      <th>Temp9am</th>\n",
       "      <th>Temp3pm</th>\n",
       "      <th>RainToday</th>\n",
       "      <th>RainTomorrow</th>\n",
       "      <th>Year</th>\n",
       "      <th>Month</th>\n",
       "      <th>Day</th>\n",
       "    </tr>\n",
       "  </thead>\n",
       "  <tbody>\n",
       "    <tr>\n",
       "      <th>0</th>\n",
       "      <td>Albury</td>\n",
       "      <td>13.4</td>\n",
       "      <td>22.9</td>\n",
       "      <td>0.6</td>\n",
       "      <td>NaN</td>\n",
       "      <td>NaN</td>\n",
       "      <td>W</td>\n",
       "      <td>44.0</td>\n",
       "      <td>W</td>\n",
       "      <td>WNW</td>\n",
       "      <td>...</td>\n",
       "      <td>1007.1</td>\n",
       "      <td>8.0</td>\n",
       "      <td>NaN</td>\n",
       "      <td>16.9</td>\n",
       "      <td>21.8</td>\n",
       "      <td>No</td>\n",
       "      <td>No</td>\n",
       "      <td>2008</td>\n",
       "      <td>12</td>\n",
       "      <td>12</td>\n",
       "    </tr>\n",
       "    <tr>\n",
       "      <th>1</th>\n",
       "      <td>Albury</td>\n",
       "      <td>7.4</td>\n",
       "      <td>25.1</td>\n",
       "      <td>0.0</td>\n",
       "      <td>NaN</td>\n",
       "      <td>NaN</td>\n",
       "      <td>WNW</td>\n",
       "      <td>44.0</td>\n",
       "      <td>NNW</td>\n",
       "      <td>WSW</td>\n",
       "      <td>...</td>\n",
       "      <td>1007.8</td>\n",
       "      <td>NaN</td>\n",
       "      <td>NaN</td>\n",
       "      <td>17.2</td>\n",
       "      <td>24.3</td>\n",
       "      <td>No</td>\n",
       "      <td>No</td>\n",
       "      <td>2008</td>\n",
       "      <td>12</td>\n",
       "      <td>12</td>\n",
       "    </tr>\n",
       "    <tr>\n",
       "      <th>2</th>\n",
       "      <td>Albury</td>\n",
       "      <td>12.9</td>\n",
       "      <td>25.7</td>\n",
       "      <td>0.0</td>\n",
       "      <td>NaN</td>\n",
       "      <td>NaN</td>\n",
       "      <td>WSW</td>\n",
       "      <td>46.0</td>\n",
       "      <td>W</td>\n",
       "      <td>WSW</td>\n",
       "      <td>...</td>\n",
       "      <td>1008.7</td>\n",
       "      <td>NaN</td>\n",
       "      <td>2.0</td>\n",
       "      <td>21.0</td>\n",
       "      <td>23.2</td>\n",
       "      <td>No</td>\n",
       "      <td>No</td>\n",
       "      <td>2008</td>\n",
       "      <td>12</td>\n",
       "      <td>12</td>\n",
       "    </tr>\n",
       "    <tr>\n",
       "      <th>3</th>\n",
       "      <td>Albury</td>\n",
       "      <td>9.2</td>\n",
       "      <td>28.0</td>\n",
       "      <td>0.0</td>\n",
       "      <td>NaN</td>\n",
       "      <td>NaN</td>\n",
       "      <td>NE</td>\n",
       "      <td>24.0</td>\n",
       "      <td>SE</td>\n",
       "      <td>E</td>\n",
       "      <td>...</td>\n",
       "      <td>1012.8</td>\n",
       "      <td>NaN</td>\n",
       "      <td>NaN</td>\n",
       "      <td>18.1</td>\n",
       "      <td>26.5</td>\n",
       "      <td>No</td>\n",
       "      <td>No</td>\n",
       "      <td>2008</td>\n",
       "      <td>12</td>\n",
       "      <td>12</td>\n",
       "    </tr>\n",
       "    <tr>\n",
       "      <th>4</th>\n",
       "      <td>Albury</td>\n",
       "      <td>17.5</td>\n",
       "      <td>32.3</td>\n",
       "      <td>1.0</td>\n",
       "      <td>NaN</td>\n",
       "      <td>NaN</td>\n",
       "      <td>W</td>\n",
       "      <td>41.0</td>\n",
       "      <td>ENE</td>\n",
       "      <td>NW</td>\n",
       "      <td>...</td>\n",
       "      <td>1006.0</td>\n",
       "      <td>7.0</td>\n",
       "      <td>8.0</td>\n",
       "      <td>17.8</td>\n",
       "      <td>29.7</td>\n",
       "      <td>No</td>\n",
       "      <td>No</td>\n",
       "      <td>2008</td>\n",
       "      <td>12</td>\n",
       "      <td>12</td>\n",
       "    </tr>\n",
       "  </tbody>\n",
       "</table>\n",
       "<p>5 rows × 25 columns</p>\n",
       "</div>"
      ],
      "text/plain": [
       "  Location  MinTemp  MaxTemp  Rainfall  Evaporation  Sunshine WindGustDir  \\\n",
       "0   Albury     13.4     22.9       0.6          NaN       NaN           W   \n",
       "1   Albury      7.4     25.1       0.0          NaN       NaN         WNW   \n",
       "2   Albury     12.9     25.7       0.0          NaN       NaN         WSW   \n",
       "3   Albury      9.2     28.0       0.0          NaN       NaN          NE   \n",
       "4   Albury     17.5     32.3       1.0          NaN       NaN           W   \n",
       "\n",
       "   WindGustSpeed WindDir9am WindDir3pm  ...  Pressure3pm  Cloud9am  Cloud3pm  \\\n",
       "0           44.0          W        WNW  ...       1007.1       8.0       NaN   \n",
       "1           44.0        NNW        WSW  ...       1007.8       NaN       NaN   \n",
       "2           46.0          W        WSW  ...       1008.7       NaN       2.0   \n",
       "3           24.0         SE          E  ...       1012.8       NaN       NaN   \n",
       "4           41.0        ENE         NW  ...       1006.0       7.0       8.0   \n",
       "\n",
       "   Temp9am  Temp3pm  RainToday  RainTomorrow  Year  Month  Day  \n",
       "0     16.9     21.8         No            No  2008     12   12  \n",
       "1     17.2     24.3         No            No  2008     12   12  \n",
       "2     21.0     23.2         No            No  2008     12   12  \n",
       "3     18.1     26.5         No            No  2008     12   12  \n",
       "4     17.8     29.7         No            No  2008     12   12  \n",
       "\n",
       "[5 rows x 25 columns]"
      ]
     },
     "execution_count": 28,
     "metadata": {},
     "output_type": "execute_result"
    }
   ],
   "source": [
    "# 再次预览数据集\n",
    "\n",
    "df.head()"
   ]
  },
  {
   "cell_type": "raw",
   "id": "0e4c2f5b-1b6d-4cda-a92f-63709542045d",
   "metadata": {},
   "source": [
    "现在，我们可以看到“Date”变量已从数据集中删除。"
   ]
  },
  {
   "cell_type": "code",
   "execution_count": 29,
   "id": "4464d1e9-8333-4484-bc6b-671b1b0276ea",
   "metadata": {},
   "outputs": [
    {
     "data": {
      "text/plain": [
       "Index(['Location', 'MinTemp', 'MaxTemp', 'Rainfall', 'Evaporation', 'Sunshine',\n",
       "       'WindGustDir', 'WindGustSpeed', 'WindDir9am', 'WindDir3pm',\n",
       "       'WindSpeed9am', 'WindSpeed3pm', 'Humidity9am', 'Humidity3pm',\n",
       "       'Pressure9am', 'Pressure3pm', 'Cloud9am', 'Cloud3pm', 'Temp9am',\n",
       "       'Temp3pm', 'RainToday', 'Year', 'Month', 'Day'],\n",
       "      dtype='object')"
      ]
     },
     "execution_count": 29,
     "metadata": {},
     "output_type": "execute_result"
    }
   ],
   "source": [
    "X = df.drop(['RainTomorrow'], axis=1)\n",
    "\n",
    "y = df['RainTomorrow']\n",
    "\n",
    "X.columns"
   ]
  },
  {
   "cell_type": "code",
   "execution_count": 30,
   "id": "0dc9ef7e-5022-4a75-8f39-5c98a7ba3196",
   "metadata": {},
   "outputs": [
    {
     "ename": "ModuleNotFoundError",
     "evalue": "No module named 'sklearn'",
     "output_type": "error",
     "traceback": [
      "\u001b[1;31m---------------------------------------------------------------------------\u001b[0m",
      "\u001b[1;31mModuleNotFoundError\u001b[0m                       Traceback (most recent call last)",
      "Cell \u001b[1;32mIn[30], line 3\u001b[0m\n\u001b[0;32m      1\u001b[0m \u001b[38;5;66;03m# 将 X 和 y 分成训练集和测试集\u001b[39;00m\n\u001b[1;32m----> 3\u001b[0m \u001b[38;5;28;01mfrom\u001b[39;00m \u001b[38;5;21;01msklearn\u001b[39;00m\u001b[38;5;21;01m.\u001b[39;00m\u001b[38;5;21;01mmodel_selection\u001b[39;00m \u001b[38;5;28;01mimport\u001b[39;00m train_test_split\n\u001b[0;32m      5\u001b[0m X_train, X_test, y_train, y_test \u001b[38;5;241m=\u001b[39m train_test_split(X, y, test_size \u001b[38;5;241m=\u001b[39m \u001b[38;5;241m0.2\u001b[39m, random_state \u001b[38;5;241m=\u001b[39m \u001b[38;5;241m0\u001b[39m)\n",
      "\u001b[1;31mModuleNotFoundError\u001b[0m: No module named 'sklearn'"
     ]
    }
   ],
   "source": [
    "# 将 X 和 y 分成训练集和测试集\n",
    "\n",
    "from sklearn.model_selection import train_test_split\n",
    "\n",
    "X_train, X_test, y_train, y_test = train_test_split(X, y, test_size = 0.2, random_state = 0)"
   ]
  },
  {
   "cell_type": "code",
   "execution_count": null,
   "id": "41626b71-07e1-49d5-a243-11956665ea73",
   "metadata": {},
   "outputs": [
    {
     "data": {
      "text/plain": [
       "((116368, 24), (29092, 24))"
      ]
     },
     "execution_count": 27,
     "metadata": {},
     "output_type": "execute_result"
    }
   ],
   "source": [
    "# 检查 X_train 和 X_test 的形状\n",
    "\n",
    "X_train.shape, X_test.shape"
   ]
  },
  {
   "cell_type": "markdown",
   "id": "4da2d482-664d-44a7-a46d-d8ec266c2de2",
   "metadata": {},
   "source": [
    "### 1.4.2 声明特征向量和目标向量"
   ]
  },
  {
   "cell_type": "code",
   "execution_count": null,
   "id": "daae7f3f-d776-41c4-b939-b8776990b827",
   "metadata": {},
   "outputs": [],
   "source": [
    "X = df.drop(['RainTomorrow'], axis=1)\n",
    "\n",
    "y = df['RainTomorrow']"
   ]
  },
  {
   "cell_type": "markdown",
   "id": "6ac4883e-9f2f-4867-9437-60878ed51ad4",
   "metadata": {},
   "source": [
    "### 1.4.3 删除y=NAn的行"
   ]
  },
  {
   "cell_type": "code",
   "execution_count": null,
   "id": "5f637e17-3da0-4377-9a9c-56831b88307b",
   "metadata": {},
   "outputs": [
    {
     "data": {
      "text/plain": [
       "3267"
      ]
     },
     "execution_count": 29,
     "metadata": {},
     "output_type": "execute_result"
    }
   ],
   "source": [
    "# 检查y中是否有缺失值\n",
    "\n",
    "y.isnull().sum()"
   ]
  },
  {
   "cell_type": "code",
   "execution_count": null,
   "id": "f42dcb3c-faa7-44cf-896e-baac8d8db571",
   "metadata": {},
   "outputs": [
    {
     "data": {
      "text/plain": [
       "0"
      ]
     },
     "execution_count": 30,
     "metadata": {},
     "output_type": "execute_result"
    }
   ],
   "source": [
    "y = y.dropna()\n",
    "\n",
    "X = X.loc[y.index]\n",
    "\n",
    "y.isnull().sum()"
   ]
  },
  {
   "cell_type": "code",
   "execution_count": null,
   "id": "909f72fa-ef68-43bd-9b2f-fa7dec57d2a1",
   "metadata": {},
   "outputs": [],
   "source": [
    "from sklearn.model_selection import train_test_split\n",
    "\n",
    "X_train, X_test, y_train, y_test = train_test_split(X, y, test_size = 0.2, random_state = 0)"
   ]
  },
  {
   "cell_type": "markdown",
   "id": "9b39ce56-a22e-4a60-9f4c-977da71b20f4",
   "metadata": {},
   "source": [
    "### 1.4.3 添加数值变量的缺失值"
   ]
  },
  {
   "cell_type": "code",
   "execution_count": null,
   "id": "21bb5254-c8ce-4b73-8a7a-852ea10abd52",
   "metadata": {
    "scrolled": true
   },
   "outputs": [
    {
     "data": {
      "text/plain": [
       "Location          object\n",
       "MinTemp          float64\n",
       "MaxTemp          float64\n",
       "Rainfall         float64\n",
       "Evaporation      float64\n",
       "Sunshine         float64\n",
       "WindGustDir       object\n",
       "WindGustSpeed    float64\n",
       "WindDir9am        object\n",
       "WindDir3pm        object\n",
       "WindSpeed9am     float64\n",
       "WindSpeed3pm     float64\n",
       "Humidity9am      float64\n",
       "Humidity3pm      float64\n",
       "Pressure9am      float64\n",
       "Pressure3pm      float64\n",
       "Cloud9am         float64\n",
       "Cloud3pm         float64\n",
       "Temp9am          float64\n",
       "Temp3pm          float64\n",
       "RainToday         object\n",
       "Year               int32\n",
       "Month              int32\n",
       "Day                int32\n",
       "dtype: object"
      ]
     },
     "execution_count": 32,
     "metadata": {},
     "output_type": "execute_result"
    }
   ],
   "source": [
    "# 检查 X_train 中的数据类型\n",
    "\n",
    "X_train.dtypes"
   ]
  },
  {
   "cell_type": "code",
   "execution_count": null,
   "id": "7ca5742f-f19b-4733-9d77-919010162b2f",
   "metadata": {},
   "outputs": [
    {
     "data": {
      "text/plain": [
       "['Location', 'WindGustDir', 'WindDir9am', 'WindDir3pm', 'RainToday']"
      ]
     },
     "execution_count": 33,
     "metadata": {},
     "output_type": "execute_result"
    }
   ],
   "source": [
    "# 显示类别变量\n",
    "\n",
    "categorical = [col for col in X_train.columns if X_train[col].dtypes == 'O']\n",
    "\n",
    "categorical"
   ]
  },
  {
   "cell_type": "code",
   "execution_count": null,
   "id": "fa9b4559-d22c-480a-a10f-7e2d1f8d7bd2",
   "metadata": {},
   "outputs": [
    {
     "data": {
      "text/plain": [
       "['MinTemp',\n",
       " 'MaxTemp',\n",
       " 'Rainfall',\n",
       " 'Evaporation',\n",
       " 'Sunshine',\n",
       " 'WindGustSpeed',\n",
       " 'WindSpeed9am',\n",
       " 'WindSpeed3pm',\n",
       " 'Humidity9am',\n",
       " 'Humidity3pm',\n",
       " 'Pressure9am',\n",
       " 'Pressure3pm',\n",
       " 'Cloud9am',\n",
       " 'Cloud3pm',\n",
       " 'Temp9am',\n",
       " 'Temp3pm',\n",
       " 'Year',\n",
       " 'Month',\n",
       " 'Day']"
      ]
     },
     "execution_count": 34,
     "metadata": {},
     "output_type": "execute_result"
    }
   ],
   "source": [
    "# 显示数值变量\n",
    "\n",
    "numerical = [col for col in X_train.columns if X_train[col].dtypes != 'O']\n",
    "\n",
    "numerical"
   ]
  },
  {
   "cell_type": "code",
   "execution_count": null,
   "id": "163f83cd-5029-496d-a77f-7428be4636e2",
   "metadata": {},
   "outputs": [
    {
     "data": {
      "text/plain": [
       "MinTemp            495\n",
       "MaxTemp            264\n",
       "Rainfall          1139\n",
       "Evaporation      48718\n",
       "Sunshine         54314\n",
       "WindGustSpeed     7367\n",
       "WindSpeed9am      1086\n",
       "WindSpeed3pm      2094\n",
       "Humidity9am       1449\n",
       "Humidity3pm       2890\n",
       "Pressure9am      11212\n",
       "Pressure3pm      11186\n",
       "Cloud9am         43137\n",
       "Cloud3pm         45768\n",
       "Temp9am            740\n",
       "Temp3pm           2171\n",
       "Year                 0\n",
       "Month                0\n",
       "Day                  0\n",
       "dtype: int64"
      ]
     },
     "execution_count": 35,
     "metadata": {},
     "output_type": "execute_result"
    }
   ],
   "source": [
    "# 检查 X_train 中数值变量的缺失值\n",
    "\n",
    "X_train[numerical].isnull().sum()"
   ]
  },
  {
   "cell_type": "markdown",
   "id": "917effa8-cc25-4768-8d39-1386e254c665",
   "metadata": {},
   "source": [
    "#### 假设\n",
    "\n",
    "\n",
    "我假设数据完全随机丢失（MCAR）。 有两种方法可用于估算缺失值。 一种是均值或中位数插补，另一种是随机样本插补。 当数据集中存在异常值时，我们应该使用中值插补。 因此，我将使用中值插补，因为中值插补对于异常值具有鲁棒性。\n",
    "\n",
    "\n",
    "我将使用数据的适当统计度量（在本例中为中位数）来估算缺失值。 应在训练集上进行插补，然后传播到测试集。 这意味着用于填充训练集和测试集中缺失值的统计度量应该仅从训练集中提取。 这是为了避免过度拟合。"
   ]
  },
  {
   "cell_type": "code",
   "execution_count": null,
   "id": "cbc0daa2-43c6-47c9-8103-bb6eb053d0f0",
   "metadata": {},
   "outputs": [],
   "source": [
    "# 将 X_train 和 X_test 中的缺失值估算为 X_train 中相应列的中位数\n",
    "# fillna是pandas中的方法，用于填充缺失值\n",
    "\n",
    "for df1 in [X_train, X_test]:\n",
    "    for col in numerical:\n",
    "        col_median=X_train[col].median()\n",
    "        df1[col].fillna(col_median, inplace=True)           \n",
    "      "
   ]
  },
  {
   "cell_type": "code",
   "execution_count": null,
   "id": "f9284551-e4d4-4f44-b695-149c21ad52b4",
   "metadata": {},
   "outputs": [
    {
     "data": {
      "text/plain": [
       "MinTemp          0\n",
       "MaxTemp          0\n",
       "Rainfall         0\n",
       "Evaporation      0\n",
       "Sunshine         0\n",
       "WindGustSpeed    0\n",
       "WindSpeed9am     0\n",
       "WindSpeed3pm     0\n",
       "Humidity9am      0\n",
       "Humidity3pm      0\n",
       "Pressure9am      0\n",
       "Pressure3pm      0\n",
       "Cloud9am         0\n",
       "Cloud3pm         0\n",
       "Temp9am          0\n",
       "Temp3pm          0\n",
       "Year             0\n",
       "Month            0\n",
       "Day              0\n",
       "dtype: int64"
      ]
     },
     "execution_count": 37,
     "metadata": {},
     "output_type": "execute_result"
    }
   ],
   "source": [
    "# 再次检查 X_train 中数值变量的缺失值\n",
    "\n",
    "X_train[numerical].isnull().sum()"
   ]
  },
  {
   "cell_type": "markdown",
   "id": "882af87c-5a91-40b3-879d-34702dd3080e",
   "metadata": {},
   "source": [
    "### 1.4.4 处理分类变量的缺失值"
   ]
  },
  {
   "cell_type": "code",
   "execution_count": null,
   "id": "6a3c738a-fca3-41b0-8ed7-d3ea26d9723d",
   "metadata": {},
   "outputs": [
    {
     "data": {
      "text/plain": [
       "Location       0.000000\n",
       "WindGustDir    0.065114\n",
       "WindDir9am     0.070134\n",
       "WindDir3pm     0.026443\n",
       "RainToday      0.010013\n",
       "dtype: float64"
      ]
     },
     "execution_count": 38,
     "metadata": {},
     "output_type": "execute_result"
    }
   ],
   "source": [
    "# 打印训练集中类别变量中缺失值的百分比\n",
    "\n",
    "X_train[categorical].isnull().mean()"
   ]
  },
  {
   "cell_type": "code",
   "execution_count": null,
   "id": "d2a94c31-2fa0-4948-9532-0bc655c7170a",
   "metadata": {},
   "outputs": [
    {
     "name": "stdout",
     "output_type": "stream",
     "text": [
      "WindGustDir 0.06511419378659213\n",
      "WindDir9am 0.07013379749283542\n",
      "WindDir3pm 0.026443026179299188\n",
      "RainToday 0.01001283471350458\n"
     ]
    }
   ],
   "source": [
    "# 打印缺失数据的类别变量\n",
    "\n",
    "for col in categorical:\n",
    "    if X_train[col].isnull().mean()>0:\n",
    "        print(col, (X_train[col].isnull().mean()))"
   ]
  },
  {
   "cell_type": "code",
   "execution_count": null,
   "id": "09358588-8876-4c97-a22f-08cb0587c412",
   "metadata": {},
   "outputs": [],
   "source": [
    "# 用最常见的值估算缺失的类别变量\n",
    "\n",
    "for df2 in [X_train, X_test]:\n",
    "    df2['WindGustDir'].fillna(X_train['WindGustDir'].mode()[0], inplace=True)\n",
    "    df2['WindDir9am'].fillna(X_train['WindDir9am'].mode()[0], inplace=True)\n",
    "    df2['WindDir3pm'].fillna(X_train['WindDir3pm'].mode()[0], inplace=True)\n",
    "    df2['RainToday'].fillna(X_train['RainToday'].mode()[0], inplace=True)"
   ]
  },
  {
   "cell_type": "code",
   "execution_count": null,
   "id": "415b3673-bba7-4725-b007-b0737cd12792",
   "metadata": {},
   "outputs": [
    {
     "data": {
      "text/plain": [
       "Location       0\n",
       "WindGustDir    0\n",
       "WindDir9am     0\n",
       "WindDir3pm     0\n",
       "RainToday      0\n",
       "dtype: int64"
      ]
     },
     "execution_count": 41,
     "metadata": {},
     "output_type": "execute_result"
    }
   ],
   "source": [
    "# 检查 X_train 中类别变量的缺失值\n",
    "\n",
    "X_train[categorical].isnull().sum()"
   ]
  },
  {
   "cell_type": "raw",
   "id": "ca3a8429-11d6-46a0-ae69-884c57080d1f",
   "metadata": {},
   "source": [
    "最终检查 X_train 和 X_test 中是否有缺失值。"
   ]
  },
  {
   "cell_type": "code",
   "execution_count": null,
   "id": "ebfeafdf-bc8f-48af-b0ed-d3041cc18bc9",
   "metadata": {},
   "outputs": [
    {
     "data": {
      "text/plain": [
       "Location         0\n",
       "MinTemp          0\n",
       "MaxTemp          0\n",
       "Rainfall         0\n",
       "Evaporation      0\n",
       "Sunshine         0\n",
       "WindGustDir      0\n",
       "WindGustSpeed    0\n",
       "WindDir9am       0\n",
       "WindDir3pm       0\n",
       "WindSpeed9am     0\n",
       "WindSpeed3pm     0\n",
       "Humidity9am      0\n",
       "Humidity3pm      0\n",
       "Pressure9am      0\n",
       "Pressure3pm      0\n",
       "Cloud9am         0\n",
       "Cloud3pm         0\n",
       "Temp9am          0\n",
       "Temp3pm          0\n",
       "RainToday        0\n",
       "Year             0\n",
       "Month            0\n",
       "Day              0\n",
       "dtype: int64"
      ]
     },
     "execution_count": 42,
     "metadata": {},
     "output_type": "execute_result"
    }
   ],
   "source": [
    "# 检查 X_train 中的缺失值\n",
    "\n",
    "X_train.isnull().sum()"
   ]
  },
  {
   "cell_type": "code",
   "execution_count": null,
   "id": "91feef03-a6d3-4f64-a942-42ef39445b39",
   "metadata": {},
   "outputs": [
    {
     "data": {
      "text/plain": [
       "Location         0\n",
       "MinTemp          0\n",
       "MaxTemp          0\n",
       "Rainfall         0\n",
       "Evaporation      0\n",
       "Sunshine         0\n",
       "WindGustDir      0\n",
       "WindGustSpeed    0\n",
       "WindDir9am       0\n",
       "WindDir3pm       0\n",
       "WindSpeed9am     0\n",
       "WindSpeed3pm     0\n",
       "Humidity9am      0\n",
       "Humidity3pm      0\n",
       "Pressure9am      0\n",
       "Pressure3pm      0\n",
       "Cloud9am         0\n",
       "Cloud3pm         0\n",
       "Temp9am          0\n",
       "Temp3pm          0\n",
       "RainToday        0\n",
       "Year             0\n",
       "Month            0\n",
       "Day              0\n",
       "dtype: int64"
      ]
     },
     "execution_count": 43,
     "metadata": {},
     "output_type": "execute_result"
    }
   ],
   "source": [
    "# 检查 X_test 中的缺失值\n",
    "\n",
    "X_test.isnull().sum()"
   ]
  },
  {
   "cell_type": "markdown",
   "id": "59c5b21d-3cba-4526-964e-8e8803922f28",
   "metadata": {},
   "source": [
    "### 1.4.5 编码分类变量\n",
    "\n",
    "将其转化为计算机能够处理的数值变量"
   ]
  },
  {
   "cell_type": "code",
   "execution_count": null,
   "id": "20706b6d-2898-424e-a66b-a377274813ee",
   "metadata": {},
   "outputs": [],
   "source": [
    "# 编码 RainToday 变量\n",
    "\n",
    "import category_encoders as ce\n",
    "\n",
    "encoder = ce.BinaryEncoder(cols=['RainToday'])\n",
    "\n",
    "X_train = encoder.fit_transform(X_train)\n",
    "\n",
    "X_test = encoder.transform(X_test)"
   ]
  },
  {
   "cell_type": "code",
   "execution_count": null,
   "id": "53798740-466b-41a0-9d02-d036ade694b2",
   "metadata": {},
   "outputs": [
    {
     "data": {
      "text/html": [
       "<div>\n",
       "<style scoped>\n",
       "    .dataframe tbody tr th:only-of-type {\n",
       "        vertical-align: middle;\n",
       "    }\n",
       "\n",
       "    .dataframe tbody tr th {\n",
       "        vertical-align: top;\n",
       "    }\n",
       "\n",
       "    .dataframe thead th {\n",
       "        text-align: right;\n",
       "    }\n",
       "</style>\n",
       "<table border=\"1\" class=\"dataframe\">\n",
       "  <thead>\n",
       "    <tr style=\"text-align: right;\">\n",
       "      <th></th>\n",
       "      <th>Location</th>\n",
       "      <th>MinTemp</th>\n",
       "      <th>MaxTemp</th>\n",
       "      <th>Rainfall</th>\n",
       "      <th>Evaporation</th>\n",
       "      <th>Sunshine</th>\n",
       "      <th>WindGustDir</th>\n",
       "      <th>WindGustSpeed</th>\n",
       "      <th>WindDir9am</th>\n",
       "      <th>WindDir3pm</th>\n",
       "      <th>...</th>\n",
       "      <th>Pressure3pm</th>\n",
       "      <th>Cloud9am</th>\n",
       "      <th>Cloud3pm</th>\n",
       "      <th>Temp9am</th>\n",
       "      <th>Temp3pm</th>\n",
       "      <th>RainToday_0</th>\n",
       "      <th>RainToday_1</th>\n",
       "      <th>Year</th>\n",
       "      <th>Month</th>\n",
       "      <th>Day</th>\n",
       "    </tr>\n",
       "  </thead>\n",
       "  <tbody>\n",
       "    <tr>\n",
       "      <th>113462</th>\n",
       "      <td>Witchcliffe</td>\n",
       "      <td>13.9</td>\n",
       "      <td>22.6</td>\n",
       "      <td>0.2</td>\n",
       "      <td>4.8</td>\n",
       "      <td>8.5</td>\n",
       "      <td>S</td>\n",
       "      <td>41.0</td>\n",
       "      <td>SSE</td>\n",
       "      <td>S</td>\n",
       "      <td>...</td>\n",
       "      <td>1013.4</td>\n",
       "      <td>5.0</td>\n",
       "      <td>5.0</td>\n",
       "      <td>18.8</td>\n",
       "      <td>20.4</td>\n",
       "      <td>0</td>\n",
       "      <td>1</td>\n",
       "      <td>2014</td>\n",
       "      <td>4</td>\n",
       "      <td>4</td>\n",
       "    </tr>\n",
       "    <tr>\n",
       "      <th>89638</th>\n",
       "      <td>Cairns</td>\n",
       "      <td>22.4</td>\n",
       "      <td>29.4</td>\n",
       "      <td>2.0</td>\n",
       "      <td>6.0</td>\n",
       "      <td>6.3</td>\n",
       "      <td>ENE</td>\n",
       "      <td>33.0</td>\n",
       "      <td>SSE</td>\n",
       "      <td>SE</td>\n",
       "      <td>...</td>\n",
       "      <td>1013.1</td>\n",
       "      <td>7.0</td>\n",
       "      <td>5.0</td>\n",
       "      <td>26.4</td>\n",
       "      <td>27.5</td>\n",
       "      <td>1</td>\n",
       "      <td>0</td>\n",
       "      <td>2015</td>\n",
       "      <td>11</td>\n",
       "      <td>11</td>\n",
       "    </tr>\n",
       "    <tr>\n",
       "      <th>138130</th>\n",
       "      <td>AliceSprings</td>\n",
       "      <td>9.7</td>\n",
       "      <td>36.2</td>\n",
       "      <td>0.0</td>\n",
       "      <td>11.4</td>\n",
       "      <td>12.3</td>\n",
       "      <td>E</td>\n",
       "      <td>31.0</td>\n",
       "      <td>NE</td>\n",
       "      <td>N</td>\n",
       "      <td>...</td>\n",
       "      <td>1013.6</td>\n",
       "      <td>1.0</td>\n",
       "      <td>1.0</td>\n",
       "      <td>28.5</td>\n",
       "      <td>35.0</td>\n",
       "      <td>0</td>\n",
       "      <td>1</td>\n",
       "      <td>2014</td>\n",
       "      <td>10</td>\n",
       "      <td>10</td>\n",
       "    </tr>\n",
       "    <tr>\n",
       "      <th>87898</th>\n",
       "      <td>Cairns</td>\n",
       "      <td>20.5</td>\n",
       "      <td>30.1</td>\n",
       "      <td>0.0</td>\n",
       "      <td>8.8</td>\n",
       "      <td>11.1</td>\n",
       "      <td>ESE</td>\n",
       "      <td>37.0</td>\n",
       "      <td>SSE</td>\n",
       "      <td>E</td>\n",
       "      <td>...</td>\n",
       "      <td>1010.8</td>\n",
       "      <td>2.0</td>\n",
       "      <td>3.0</td>\n",
       "      <td>27.3</td>\n",
       "      <td>29.4</td>\n",
       "      <td>0</td>\n",
       "      <td>1</td>\n",
       "      <td>2010</td>\n",
       "      <td>10</td>\n",
       "      <td>10</td>\n",
       "    </tr>\n",
       "    <tr>\n",
       "      <th>16484</th>\n",
       "      <td>Newcastle</td>\n",
       "      <td>16.8</td>\n",
       "      <td>29.2</td>\n",
       "      <td>0.0</td>\n",
       "      <td>4.8</td>\n",
       "      <td>8.5</td>\n",
       "      <td>W</td>\n",
       "      <td>39.0</td>\n",
       "      <td>N</td>\n",
       "      <td>SE</td>\n",
       "      <td>...</td>\n",
       "      <td>1015.2</td>\n",
       "      <td>5.0</td>\n",
       "      <td>8.0</td>\n",
       "      <td>22.2</td>\n",
       "      <td>27.0</td>\n",
       "      <td>0</td>\n",
       "      <td>1</td>\n",
       "      <td>2012</td>\n",
       "      <td>11</td>\n",
       "      <td>11</td>\n",
       "    </tr>\n",
       "  </tbody>\n",
       "</table>\n",
       "<p>5 rows × 25 columns</p>\n",
       "</div>"
      ],
      "text/plain": [
       "            Location  MinTemp  MaxTemp  Rainfall  Evaporation  Sunshine  \\\n",
       "113462   Witchcliffe     13.9     22.6       0.2          4.8       8.5   \n",
       "89638         Cairns     22.4     29.4       2.0          6.0       6.3   \n",
       "138130  AliceSprings      9.7     36.2       0.0         11.4      12.3   \n",
       "87898         Cairns     20.5     30.1       0.0          8.8      11.1   \n",
       "16484      Newcastle     16.8     29.2       0.0          4.8       8.5   \n",
       "\n",
       "       WindGustDir  WindGustSpeed WindDir9am WindDir3pm  ...  Pressure3pm  \\\n",
       "113462           S           41.0        SSE          S  ...       1013.4   \n",
       "89638          ENE           33.0        SSE         SE  ...       1013.1   \n",
       "138130           E           31.0         NE          N  ...       1013.6   \n",
       "87898          ESE           37.0        SSE          E  ...       1010.8   \n",
       "16484            W           39.0          N         SE  ...       1015.2   \n",
       "\n",
       "        Cloud9am  Cloud3pm  Temp9am  Temp3pm  RainToday_0  RainToday_1  Year  \\\n",
       "113462       5.0       5.0     18.8     20.4            0            1  2014   \n",
       "89638        7.0       5.0     26.4     27.5            1            0  2015   \n",
       "138130       1.0       1.0     28.5     35.0            0            1  2014   \n",
       "87898        2.0       3.0     27.3     29.4            0            1  2010   \n",
       "16484        5.0       8.0     22.2     27.0            0            1  2012   \n",
       "\n",
       "        Month  Day  \n",
       "113462      4    4  \n",
       "89638      11   11  \n",
       "138130     10   10  \n",
       "87898      10   10  \n",
       "16484      11   11  \n",
       "\n",
       "[5 rows x 25 columns]"
      ]
     },
     "execution_count": 45,
     "metadata": {},
     "output_type": "execute_result"
    }
   ],
   "source": [
    "X_train.head()"
   ]
  },
  {
   "cell_type": "raw",
   "id": "b5dd5297-9193-4ced-889a-b445ce24823c",
   "metadata": {},
   "source": [
    "我们可以看到两个附加变量“RainToday_0”和“RainToday_1”是从“RainToday”变量创建的。\n",
    "\n",
    "现在创建“X_train”训练集。"
   ]
  },
  {
   "cell_type": "markdown",
   "id": "d47454f4-6812-4e99-b18d-97e4d3e33f33",
   "metadata": {},
   "source": [
    "以下这段代码主要是在进行特征工程，通过将原始数据集中的特征进行处理和转换，生成新的特征集合 X_train。\n",
    "\n",
    "具体来说，这段代码做了以下几件事情：\n",
    "\n",
    "选择了一些数值型特征：`X_train[numerical]`，这些特征被保留下来没有进行额外的处理。\n",
    "选择了一个二元特征 `RainToday_0` 和 `RainToday_1`，这些可能表示是否下雨的信息。\n",
    "对 `Location`、`WindGustDir`、`WindDir9am` 和 `WindDir3pm` 这四个列进行了独热编码（One-Hot Encoding）。具体步骤是：\n",
    "对于每个类别型特征，使用 pd.get_dummies() 方法将其转换为独热编码表示形式，生成一个 DataFrame。\n",
    "使用 pd.concat() 方法将数值型特征、二元特征和独热编码生成的 DataFrame 拼接在一起，生成最终的特征集合 X_train。\n",
    "总结起来，这段代码的目的是将原始的特征集合进行处理和转换，生成一个新的特征集合 X_train，以便用于机器学习模型的训练。"
   ]
  },
  {
   "cell_type": "code",
   "execution_count": null,
   "id": "51b6e525-9a4a-4f18-913b-61e13cc95183",
   "metadata": {},
   "outputs": [],
   "source": [
    "X_train = pd.concat([X_train[numerical], X_train[['RainToday_0', 'RainToday_1']],\n",
    "                     pd.get_dummies(X_train.Location), \n",
    "                     pd.get_dummies(X_train.WindGustDir),\n",
    "                     pd.get_dummies(X_train.WindDir9am),\n",
    "                     pd.get_dummies(X_train.WindDir3pm)], axis=1)"
   ]
  },
  {
   "cell_type": "code",
   "execution_count": null,
   "id": "25931885-f1b7-4dd7-b988-2eaba7abde8d",
   "metadata": {},
   "outputs": [
    {
     "data": {
      "text/html": [
       "<div>\n",
       "<style scoped>\n",
       "    .dataframe tbody tr th:only-of-type {\n",
       "        vertical-align: middle;\n",
       "    }\n",
       "\n",
       "    .dataframe tbody tr th {\n",
       "        vertical-align: top;\n",
       "    }\n",
       "\n",
       "    .dataframe thead th {\n",
       "        text-align: right;\n",
       "    }\n",
       "</style>\n",
       "<table border=\"1\" class=\"dataframe\">\n",
       "  <thead>\n",
       "    <tr style=\"text-align: right;\">\n",
       "      <th></th>\n",
       "      <th>MinTemp</th>\n",
       "      <th>MaxTemp</th>\n",
       "      <th>Rainfall</th>\n",
       "      <th>Evaporation</th>\n",
       "      <th>Sunshine</th>\n",
       "      <th>WindGustSpeed</th>\n",
       "      <th>WindSpeed9am</th>\n",
       "      <th>WindSpeed3pm</th>\n",
       "      <th>Humidity9am</th>\n",
       "      <th>Humidity3pm</th>\n",
       "      <th>...</th>\n",
       "      <th>NNW</th>\n",
       "      <th>NW</th>\n",
       "      <th>S</th>\n",
       "      <th>SE</th>\n",
       "      <th>SSE</th>\n",
       "      <th>SSW</th>\n",
       "      <th>SW</th>\n",
       "      <th>W</th>\n",
       "      <th>WNW</th>\n",
       "      <th>WSW</th>\n",
       "    </tr>\n",
       "  </thead>\n",
       "  <tbody>\n",
       "    <tr>\n",
       "      <th>113462</th>\n",
       "      <td>13.9</td>\n",
       "      <td>22.6</td>\n",
       "      <td>0.2</td>\n",
       "      <td>4.8</td>\n",
       "      <td>8.5</td>\n",
       "      <td>41.0</td>\n",
       "      <td>20.0</td>\n",
       "      <td>28.0</td>\n",
       "      <td>65.0</td>\n",
       "      <td>55.0</td>\n",
       "      <td>...</td>\n",
       "      <td>False</td>\n",
       "      <td>False</td>\n",
       "      <td>True</td>\n",
       "      <td>False</td>\n",
       "      <td>False</td>\n",
       "      <td>False</td>\n",
       "      <td>False</td>\n",
       "      <td>False</td>\n",
       "      <td>False</td>\n",
       "      <td>False</td>\n",
       "    </tr>\n",
       "    <tr>\n",
       "      <th>89638</th>\n",
       "      <td>22.4</td>\n",
       "      <td>29.4</td>\n",
       "      <td>2.0</td>\n",
       "      <td>6.0</td>\n",
       "      <td>6.3</td>\n",
       "      <td>33.0</td>\n",
       "      <td>7.0</td>\n",
       "      <td>19.0</td>\n",
       "      <td>71.0</td>\n",
       "      <td>59.0</td>\n",
       "      <td>...</td>\n",
       "      <td>False</td>\n",
       "      <td>False</td>\n",
       "      <td>False</td>\n",
       "      <td>True</td>\n",
       "      <td>False</td>\n",
       "      <td>False</td>\n",
       "      <td>False</td>\n",
       "      <td>False</td>\n",
       "      <td>False</td>\n",
       "      <td>False</td>\n",
       "    </tr>\n",
       "    <tr>\n",
       "      <th>138130</th>\n",
       "      <td>9.7</td>\n",
       "      <td>36.2</td>\n",
       "      <td>0.0</td>\n",
       "      <td>11.4</td>\n",
       "      <td>12.3</td>\n",
       "      <td>31.0</td>\n",
       "      <td>15.0</td>\n",
       "      <td>11.0</td>\n",
       "      <td>6.0</td>\n",
       "      <td>2.0</td>\n",
       "      <td>...</td>\n",
       "      <td>False</td>\n",
       "      <td>False</td>\n",
       "      <td>False</td>\n",
       "      <td>False</td>\n",
       "      <td>False</td>\n",
       "      <td>False</td>\n",
       "      <td>False</td>\n",
       "      <td>False</td>\n",
       "      <td>False</td>\n",
       "      <td>False</td>\n",
       "    </tr>\n",
       "    <tr>\n",
       "      <th>87898</th>\n",
       "      <td>20.5</td>\n",
       "      <td>30.1</td>\n",
       "      <td>0.0</td>\n",
       "      <td>8.8</td>\n",
       "      <td>11.1</td>\n",
       "      <td>37.0</td>\n",
       "      <td>22.0</td>\n",
       "      <td>19.0</td>\n",
       "      <td>59.0</td>\n",
       "      <td>53.0</td>\n",
       "      <td>...</td>\n",
       "      <td>False</td>\n",
       "      <td>False</td>\n",
       "      <td>False</td>\n",
       "      <td>False</td>\n",
       "      <td>False</td>\n",
       "      <td>False</td>\n",
       "      <td>False</td>\n",
       "      <td>False</td>\n",
       "      <td>False</td>\n",
       "      <td>False</td>\n",
       "    </tr>\n",
       "    <tr>\n",
       "      <th>16484</th>\n",
       "      <td>16.8</td>\n",
       "      <td>29.2</td>\n",
       "      <td>0.0</td>\n",
       "      <td>4.8</td>\n",
       "      <td>8.5</td>\n",
       "      <td>39.0</td>\n",
       "      <td>0.0</td>\n",
       "      <td>7.0</td>\n",
       "      <td>72.0</td>\n",
       "      <td>53.0</td>\n",
       "      <td>...</td>\n",
       "      <td>False</td>\n",
       "      <td>False</td>\n",
       "      <td>False</td>\n",
       "      <td>True</td>\n",
       "      <td>False</td>\n",
       "      <td>False</td>\n",
       "      <td>False</td>\n",
       "      <td>False</td>\n",
       "      <td>False</td>\n",
       "      <td>False</td>\n",
       "    </tr>\n",
       "  </tbody>\n",
       "</table>\n",
       "<p>5 rows × 118 columns</p>\n",
       "</div>"
      ],
      "text/plain": [
       "        MinTemp  MaxTemp  Rainfall  Evaporation  Sunshine  WindGustSpeed  \\\n",
       "113462     13.9     22.6       0.2          4.8       8.5           41.0   \n",
       "89638      22.4     29.4       2.0          6.0       6.3           33.0   \n",
       "138130      9.7     36.2       0.0         11.4      12.3           31.0   \n",
       "87898      20.5     30.1       0.0          8.8      11.1           37.0   \n",
       "16484      16.8     29.2       0.0          4.8       8.5           39.0   \n",
       "\n",
       "        WindSpeed9am  WindSpeed3pm  Humidity9am  Humidity3pm  ...    NNW  \\\n",
       "113462          20.0          28.0         65.0         55.0  ...  False   \n",
       "89638            7.0          19.0         71.0         59.0  ...  False   \n",
       "138130          15.0          11.0          6.0          2.0  ...  False   \n",
       "87898           22.0          19.0         59.0         53.0  ...  False   \n",
       "16484            0.0           7.0         72.0         53.0  ...  False   \n",
       "\n",
       "           NW      S     SE    SSE    SSW     SW      W    WNW    WSW  \n",
       "113462  False   True  False  False  False  False  False  False  False  \n",
       "89638   False  False   True  False  False  False  False  False  False  \n",
       "138130  False  False  False  False  False  False  False  False  False  \n",
       "87898   False  False  False  False  False  False  False  False  False  \n",
       "16484   False  False   True  False  False  False  False  False  False  \n",
       "\n",
       "[5 rows x 118 columns]"
      ]
     },
     "execution_count": 47,
     "metadata": {},
     "output_type": "execute_result"
    }
   ],
   "source": [
    "X_train.head()"
   ]
  },
  {
   "cell_type": "raw",
   "id": "053a4e91-5d1e-46df-86b0-35096028e6f0",
   "metadata": {},
   "source": [
    "同样的步骤创建“X_test”测试集。"
   ]
  },
  {
   "cell_type": "code",
   "execution_count": null,
   "id": "2200ee1e-0117-44ec-9bec-348d23e47e30",
   "metadata": {},
   "outputs": [],
   "source": [
    "X_test = pd.concat([X_test[numerical], X_test[['RainToday_0', 'RainToday_1']],\n",
    "                     pd.get_dummies(X_test.Location), \n",
    "                     pd.get_dummies(X_test.WindGustDir),\n",
    "                     pd.get_dummies(X_test.WindDir9am),\n",
    "                     pd.get_dummies(X_test.WindDir3pm)], axis=1)"
   ]
  },
  {
   "cell_type": "raw",
   "id": "3c7e1c76-4ae4-42ef-8457-e17cfad8e743",
   "metadata": {},
   "source": [
    "我们现在已经准备好用于模型构建的培训和测试集。 在此之前，我们应该将所有特征变量映射到相同的尺度上。 这称为“特征缩放”。 按如下方式进行。"
   ]
  },
  {
   "cell_type": "markdown",
   "id": "7c57c087-b813-423d-a078-4233a6aaa532",
   "metadata": {},
   "source": [
    "### 1.4.6 特征缩放"
   ]
  },
  {
   "cell_type": "markdown",
   "id": "77ee6c15-896e-41ae-b8bb-5bf12d0f7a99",
   "metadata": {},
   "source": [
    "这样可以避免特征之间的差异过大：如果特征的数值范围差异过大，可能会导致模型在训练过程中偏向于那些数值较大的特征，而忽略了其他特征。例如，在使用梯度下降等优化算法进行模型训练时，特征值范围大的特征会对参数更新产生更大的影响，从而影响模型的收敛速度和性能。\n",
    "\n",
    "确保模型能够平等对待各个特征：特征缩放可以确保模型对每个特征都能够平等对待，而不会被某些特征的数值范围所主导。这对于距离度量和正则化等模型的特征权重计算至关重要。"
   ]
  },
  {
   "cell_type": "code",
   "execution_count": null,
   "id": "0868ac40-63b4-4801-a927-243045b7f7d4",
   "metadata": {},
   "outputs": [],
   "source": [
    "# 特征缩放\n",
    "\n",
    "cols = X_train.columns\n",
    "\n",
    "from sklearn.preprocessing import MinMaxScaler\n",
    "\n",
    "scaler = MinMaxScaler()\n",
    "\n",
    "X_train = scaler.fit_transform(X_train)\n",
    "\n",
    "X_test = scaler.transform(X_test)\n",
    "\n",
    "X_train = pd.DataFrame(X_train, columns=[cols])\n",
    "\n",
    "X_test = pd.DataFrame(X_test, columns=[cols])"
   ]
  },
  {
   "cell_type": "code",
   "execution_count": null,
   "id": "87b4231d-6b4e-47ea-9cb7-b5d0d820b4a2",
   "metadata": {},
   "outputs": [
    {
     "data": {
      "text/html": [
       "<div>\n",
       "<style scoped>\n",
       "    .dataframe tbody tr th:only-of-type {\n",
       "        vertical-align: middle;\n",
       "    }\n",
       "\n",
       "    .dataframe tbody tr th {\n",
       "        vertical-align: top;\n",
       "    }\n",
       "\n",
       "    .dataframe thead tr th {\n",
       "        text-align: left;\n",
       "    }\n",
       "</style>\n",
       "<table border=\"1\" class=\"dataframe\">\n",
       "  <thead>\n",
       "    <tr>\n",
       "      <th></th>\n",
       "      <th>MinTemp</th>\n",
       "      <th>MaxTemp</th>\n",
       "      <th>Rainfall</th>\n",
       "      <th>Evaporation</th>\n",
       "      <th>Sunshine</th>\n",
       "      <th>WindGustSpeed</th>\n",
       "      <th>WindSpeed9am</th>\n",
       "      <th>WindSpeed3pm</th>\n",
       "      <th>Humidity9am</th>\n",
       "      <th>Humidity3pm</th>\n",
       "      <th>...</th>\n",
       "      <th>NNW</th>\n",
       "      <th>NW</th>\n",
       "      <th>S</th>\n",
       "      <th>SE</th>\n",
       "      <th>SSE</th>\n",
       "      <th>SSW</th>\n",
       "      <th>SW</th>\n",
       "      <th>W</th>\n",
       "      <th>WNW</th>\n",
       "      <th>WSW</th>\n",
       "    </tr>\n",
       "  </thead>\n",
       "  <tbody>\n",
       "    <tr>\n",
       "      <th>0</th>\n",
       "      <td>0.524941</td>\n",
       "      <td>0.517958</td>\n",
       "      <td>0.000539</td>\n",
       "      <td>0.055684</td>\n",
       "      <td>0.586207</td>\n",
       "      <td>0.271318</td>\n",
       "      <td>0.153846</td>\n",
       "      <td>0.337349</td>\n",
       "      <td>0.65</td>\n",
       "      <td>0.55</td>\n",
       "      <td>...</td>\n",
       "      <td>0.0</td>\n",
       "      <td>0.0</td>\n",
       "      <td>1.0</td>\n",
       "      <td>0.0</td>\n",
       "      <td>0.0</td>\n",
       "      <td>0.0</td>\n",
       "      <td>0.0</td>\n",
       "      <td>0.0</td>\n",
       "      <td>0.0</td>\n",
       "      <td>0.0</td>\n",
       "    </tr>\n",
       "    <tr>\n",
       "      <th>1</th>\n",
       "      <td>0.726841</td>\n",
       "      <td>0.646503</td>\n",
       "      <td>0.005391</td>\n",
       "      <td>0.069606</td>\n",
       "      <td>0.434483</td>\n",
       "      <td>0.209302</td>\n",
       "      <td>0.053846</td>\n",
       "      <td>0.228916</td>\n",
       "      <td>0.71</td>\n",
       "      <td>0.59</td>\n",
       "      <td>...</td>\n",
       "      <td>0.0</td>\n",
       "      <td>0.0</td>\n",
       "      <td>0.0</td>\n",
       "      <td>1.0</td>\n",
       "      <td>0.0</td>\n",
       "      <td>0.0</td>\n",
       "      <td>0.0</td>\n",
       "      <td>0.0</td>\n",
       "      <td>0.0</td>\n",
       "      <td>0.0</td>\n",
       "    </tr>\n",
       "    <tr>\n",
       "      <th>2</th>\n",
       "      <td>0.425178</td>\n",
       "      <td>0.775047</td>\n",
       "      <td>0.000000</td>\n",
       "      <td>0.132251</td>\n",
       "      <td>0.848276</td>\n",
       "      <td>0.193798</td>\n",
       "      <td>0.115385</td>\n",
       "      <td>0.132530</td>\n",
       "      <td>0.06</td>\n",
       "      <td>0.02</td>\n",
       "      <td>...</td>\n",
       "      <td>0.0</td>\n",
       "      <td>0.0</td>\n",
       "      <td>0.0</td>\n",
       "      <td>0.0</td>\n",
       "      <td>0.0</td>\n",
       "      <td>0.0</td>\n",
       "      <td>0.0</td>\n",
       "      <td>0.0</td>\n",
       "      <td>0.0</td>\n",
       "      <td>0.0</td>\n",
       "    </tr>\n",
       "    <tr>\n",
       "      <th>3</th>\n",
       "      <td>0.681710</td>\n",
       "      <td>0.659735</td>\n",
       "      <td>0.000000</td>\n",
       "      <td>0.102088</td>\n",
       "      <td>0.765517</td>\n",
       "      <td>0.240310</td>\n",
       "      <td>0.169231</td>\n",
       "      <td>0.228916</td>\n",
       "      <td>0.59</td>\n",
       "      <td>0.53</td>\n",
       "      <td>...</td>\n",
       "      <td>0.0</td>\n",
       "      <td>0.0</td>\n",
       "      <td>0.0</td>\n",
       "      <td>0.0</td>\n",
       "      <td>0.0</td>\n",
       "      <td>0.0</td>\n",
       "      <td>0.0</td>\n",
       "      <td>0.0</td>\n",
       "      <td>0.0</td>\n",
       "      <td>0.0</td>\n",
       "    </tr>\n",
       "    <tr>\n",
       "      <th>4</th>\n",
       "      <td>0.593824</td>\n",
       "      <td>0.642722</td>\n",
       "      <td>0.000000</td>\n",
       "      <td>0.055684</td>\n",
       "      <td>0.586207</td>\n",
       "      <td>0.255814</td>\n",
       "      <td>0.000000</td>\n",
       "      <td>0.084337</td>\n",
       "      <td>0.72</td>\n",
       "      <td>0.53</td>\n",
       "      <td>...</td>\n",
       "      <td>0.0</td>\n",
       "      <td>0.0</td>\n",
       "      <td>0.0</td>\n",
       "      <td>1.0</td>\n",
       "      <td>0.0</td>\n",
       "      <td>0.0</td>\n",
       "      <td>0.0</td>\n",
       "      <td>0.0</td>\n",
       "      <td>0.0</td>\n",
       "      <td>0.0</td>\n",
       "    </tr>\n",
       "    <tr>\n",
       "      <th>...</th>\n",
       "      <td>...</td>\n",
       "      <td>...</td>\n",
       "      <td>...</td>\n",
       "      <td>...</td>\n",
       "      <td>...</td>\n",
       "      <td>...</td>\n",
       "      <td>...</td>\n",
       "      <td>...</td>\n",
       "      <td>...</td>\n",
       "      <td>...</td>\n",
       "      <td>...</td>\n",
       "      <td>...</td>\n",
       "      <td>...</td>\n",
       "      <td>...</td>\n",
       "      <td>...</td>\n",
       "      <td>...</td>\n",
       "      <td>...</td>\n",
       "      <td>...</td>\n",
       "      <td>...</td>\n",
       "      <td>...</td>\n",
       "      <td>...</td>\n",
       "    </tr>\n",
       "    <tr>\n",
       "      <th>113749</th>\n",
       "      <td>0.418052</td>\n",
       "      <td>0.423440</td>\n",
       "      <td>0.000000</td>\n",
       "      <td>0.055684</td>\n",
       "      <td>0.586207</td>\n",
       "      <td>0.224806</td>\n",
       "      <td>0.053846</td>\n",
       "      <td>0.204819</td>\n",
       "      <td>0.62</td>\n",
       "      <td>0.80</td>\n",
       "      <td>...</td>\n",
       "      <td>0.0</td>\n",
       "      <td>0.0</td>\n",
       "      <td>0.0</td>\n",
       "      <td>0.0</td>\n",
       "      <td>0.0</td>\n",
       "      <td>0.0</td>\n",
       "      <td>0.0</td>\n",
       "      <td>0.0</td>\n",
       "      <td>0.0</td>\n",
       "      <td>0.0</td>\n",
       "    </tr>\n",
       "    <tr>\n",
       "      <th>113750</th>\n",
       "      <td>0.223278</td>\n",
       "      <td>0.472590</td>\n",
       "      <td>0.000000</td>\n",
       "      <td>0.023202</td>\n",
       "      <td>0.855172</td>\n",
       "      <td>0.209302</td>\n",
       "      <td>0.100000</td>\n",
       "      <td>0.156627</td>\n",
       "      <td>0.69</td>\n",
       "      <td>0.33</td>\n",
       "      <td>...</td>\n",
       "      <td>0.0</td>\n",
       "      <td>1.0</td>\n",
       "      <td>0.0</td>\n",
       "      <td>0.0</td>\n",
       "      <td>0.0</td>\n",
       "      <td>0.0</td>\n",
       "      <td>0.0</td>\n",
       "      <td>0.0</td>\n",
       "      <td>0.0</td>\n",
       "      <td>0.0</td>\n",
       "    </tr>\n",
       "    <tr>\n",
       "      <th>113751</th>\n",
       "      <td>0.477435</td>\n",
       "      <td>0.423440</td>\n",
       "      <td>0.003235</td>\n",
       "      <td>0.023202</td>\n",
       "      <td>0.586207</td>\n",
       "      <td>0.255814</td>\n",
       "      <td>0.100000</td>\n",
       "      <td>0.240964</td>\n",
       "      <td>0.67</td>\n",
       "      <td>0.38</td>\n",
       "      <td>...</td>\n",
       "      <td>0.0</td>\n",
       "      <td>0.0</td>\n",
       "      <td>0.0</td>\n",
       "      <td>0.0</td>\n",
       "      <td>0.0</td>\n",
       "      <td>0.0</td>\n",
       "      <td>0.0</td>\n",
       "      <td>0.0</td>\n",
       "      <td>0.0</td>\n",
       "      <td>1.0</td>\n",
       "    </tr>\n",
       "    <tr>\n",
       "      <th>113752</th>\n",
       "      <td>0.377672</td>\n",
       "      <td>0.582231</td>\n",
       "      <td>0.000000</td>\n",
       "      <td>0.120650</td>\n",
       "      <td>0.772414</td>\n",
       "      <td>0.193798</td>\n",
       "      <td>0.084615</td>\n",
       "      <td>0.156627</td>\n",
       "      <td>0.58</td>\n",
       "      <td>0.25</td>\n",
       "      <td>...</td>\n",
       "      <td>0.0</td>\n",
       "      <td>0.0</td>\n",
       "      <td>0.0</td>\n",
       "      <td>1.0</td>\n",
       "      <td>0.0</td>\n",
       "      <td>0.0</td>\n",
       "      <td>0.0</td>\n",
       "      <td>0.0</td>\n",
       "      <td>0.0</td>\n",
       "      <td>0.0</td>\n",
       "    </tr>\n",
       "    <tr>\n",
       "      <th>113753</th>\n",
       "      <td>0.669834</td>\n",
       "      <td>0.686200</td>\n",
       "      <td>0.000000</td>\n",
       "      <td>0.055684</td>\n",
       "      <td>0.586207</td>\n",
       "      <td>0.441860</td>\n",
       "      <td>0.330769</td>\n",
       "      <td>0.240964</td>\n",
       "      <td>0.46</td>\n",
       "      <td>0.79</td>\n",
       "      <td>...</td>\n",
       "      <td>0.0</td>\n",
       "      <td>0.0</td>\n",
       "      <td>0.0</td>\n",
       "      <td>0.0</td>\n",
       "      <td>0.0</td>\n",
       "      <td>1.0</td>\n",
       "      <td>0.0</td>\n",
       "      <td>0.0</td>\n",
       "      <td>0.0</td>\n",
       "      <td>0.0</td>\n",
       "    </tr>\n",
       "  </tbody>\n",
       "</table>\n",
       "<p>113754 rows × 118 columns</p>\n",
       "</div>"
      ],
      "text/plain": [
       "         MinTemp   MaxTemp  Rainfall Evaporation  Sunshine WindGustSpeed  \\\n",
       "0       0.524941  0.517958  0.000539    0.055684  0.586207      0.271318   \n",
       "1       0.726841  0.646503  0.005391    0.069606  0.434483      0.209302   \n",
       "2       0.425178  0.775047  0.000000    0.132251  0.848276      0.193798   \n",
       "3       0.681710  0.659735  0.000000    0.102088  0.765517      0.240310   \n",
       "4       0.593824  0.642722  0.000000    0.055684  0.586207      0.255814   \n",
       "...          ...       ...       ...         ...       ...           ...   \n",
       "113749  0.418052  0.423440  0.000000    0.055684  0.586207      0.224806   \n",
       "113750  0.223278  0.472590  0.000000    0.023202  0.855172      0.209302   \n",
       "113751  0.477435  0.423440  0.003235    0.023202  0.586207      0.255814   \n",
       "113752  0.377672  0.582231  0.000000    0.120650  0.772414      0.193798   \n",
       "113753  0.669834  0.686200  0.000000    0.055684  0.586207      0.441860   \n",
       "\n",
       "       WindSpeed9am WindSpeed3pm Humidity9am Humidity3pm  ...  NNW   NW    S  \\\n",
       "0          0.153846     0.337349        0.65        0.55  ...  0.0  0.0  1.0   \n",
       "1          0.053846     0.228916        0.71        0.59  ...  0.0  0.0  0.0   \n",
       "2          0.115385     0.132530        0.06        0.02  ...  0.0  0.0  0.0   \n",
       "3          0.169231     0.228916        0.59        0.53  ...  0.0  0.0  0.0   \n",
       "4          0.000000     0.084337        0.72        0.53  ...  0.0  0.0  0.0   \n",
       "...             ...          ...         ...         ...  ...  ...  ...  ...   \n",
       "113749     0.053846     0.204819        0.62        0.80  ...  0.0  0.0  0.0   \n",
       "113750     0.100000     0.156627        0.69        0.33  ...  0.0  1.0  0.0   \n",
       "113751     0.100000     0.240964        0.67        0.38  ...  0.0  0.0  0.0   \n",
       "113752     0.084615     0.156627        0.58        0.25  ...  0.0  0.0  0.0   \n",
       "113753     0.330769     0.240964        0.46        0.79  ...  0.0  0.0  0.0   \n",
       "\n",
       "         SE  SSE  SSW   SW    W  WNW  WSW  \n",
       "0       0.0  0.0  0.0  0.0  0.0  0.0  0.0  \n",
       "1       1.0  0.0  0.0  0.0  0.0  0.0  0.0  \n",
       "2       0.0  0.0  0.0  0.0  0.0  0.0  0.0  \n",
       "3       0.0  0.0  0.0  0.0  0.0  0.0  0.0  \n",
       "4       1.0  0.0  0.0  0.0  0.0  0.0  0.0  \n",
       "...     ...  ...  ...  ...  ...  ...  ...  \n",
       "113749  0.0  0.0  0.0  0.0  0.0  0.0  0.0  \n",
       "113750  0.0  0.0  0.0  0.0  0.0  0.0  0.0  \n",
       "113751  0.0  0.0  0.0  0.0  0.0  0.0  1.0  \n",
       "113752  1.0  0.0  0.0  0.0  0.0  0.0  0.0  \n",
       "113753  0.0  0.0  1.0  0.0  0.0  0.0  0.0  \n",
       "\n",
       "[113754 rows x 118 columns]"
      ]
     },
     "execution_count": 50,
     "metadata": {},
     "output_type": "execute_result"
    }
   ],
   "source": [
    "X_train"
   ]
  },
  {
   "cell_type": "code",
   "execution_count": null,
   "id": "85c0f9b1-a4f7-4b7a-9963-a677955dcb2e",
   "metadata": {},
   "outputs": [
    {
     "data": {
      "text/html": [
       "<div>\n",
       "<style scoped>\n",
       "    .dataframe tbody tr th:only-of-type {\n",
       "        vertical-align: middle;\n",
       "    }\n",
       "\n",
       "    .dataframe tbody tr th {\n",
       "        vertical-align: top;\n",
       "    }\n",
       "\n",
       "    .dataframe thead tr th {\n",
       "        text-align: left;\n",
       "    }\n",
       "</style>\n",
       "<table border=\"1\" class=\"dataframe\">\n",
       "  <thead>\n",
       "    <tr>\n",
       "      <th></th>\n",
       "      <th>MinTemp</th>\n",
       "      <th>MaxTemp</th>\n",
       "      <th>Rainfall</th>\n",
       "      <th>Evaporation</th>\n",
       "      <th>Sunshine</th>\n",
       "      <th>WindGustSpeed</th>\n",
       "      <th>WindSpeed9am</th>\n",
       "      <th>WindSpeed3pm</th>\n",
       "      <th>Humidity9am</th>\n",
       "      <th>Humidity3pm</th>\n",
       "      <th>...</th>\n",
       "      <th>NNW</th>\n",
       "      <th>NW</th>\n",
       "      <th>S</th>\n",
       "      <th>SE</th>\n",
       "      <th>SSE</th>\n",
       "      <th>SSW</th>\n",
       "      <th>SW</th>\n",
       "      <th>W</th>\n",
       "      <th>WNW</th>\n",
       "      <th>WSW</th>\n",
       "    </tr>\n",
       "  </thead>\n",
       "  <tbody>\n",
       "    <tr>\n",
       "      <th>0</th>\n",
       "      <td>0.608076</td>\n",
       "      <td>0.638941</td>\n",
       "      <td>0.000000</td>\n",
       "      <td>0.041763</td>\n",
       "      <td>0.765517</td>\n",
       "      <td>0.209302</td>\n",
       "      <td>0.084615</td>\n",
       "      <td>0.228916</td>\n",
       "      <td>0.63</td>\n",
       "      <td>0.61</td>\n",
       "      <td>...</td>\n",
       "      <td>0.0</td>\n",
       "      <td>0.0</td>\n",
       "      <td>0.0</td>\n",
       "      <td>0.0</td>\n",
       "      <td>0.0</td>\n",
       "      <td>0.0</td>\n",
       "      <td>0.0</td>\n",
       "      <td>0.0</td>\n",
       "      <td>0.0</td>\n",
       "      <td>0.0</td>\n",
       "    </tr>\n",
       "    <tr>\n",
       "      <th>1</th>\n",
       "      <td>0.356295</td>\n",
       "      <td>0.362949</td>\n",
       "      <td>0.002156</td>\n",
       "      <td>0.009281</td>\n",
       "      <td>0.586207</td>\n",
       "      <td>0.310078</td>\n",
       "      <td>0.130769</td>\n",
       "      <td>0.265060</td>\n",
       "      <td>0.80</td>\n",
       "      <td>0.55</td>\n",
       "      <td>...</td>\n",
       "      <td>0.0</td>\n",
       "      <td>0.0</td>\n",
       "      <td>1.0</td>\n",
       "      <td>0.0</td>\n",
       "      <td>0.0</td>\n",
       "      <td>0.0</td>\n",
       "      <td>0.0</td>\n",
       "      <td>0.0</td>\n",
       "      <td>0.0</td>\n",
       "      <td>0.0</td>\n",
       "    </tr>\n",
       "    <tr>\n",
       "      <th>2</th>\n",
       "      <td>0.434679</td>\n",
       "      <td>0.381853</td>\n",
       "      <td>0.039353</td>\n",
       "      <td>0.055684</td>\n",
       "      <td>0.586207</td>\n",
       "      <td>0.193798</td>\n",
       "      <td>0.100000</td>\n",
       "      <td>0.108434</td>\n",
       "      <td>0.70</td>\n",
       "      <td>0.61</td>\n",
       "      <td>...</td>\n",
       "      <td>0.0</td>\n",
       "      <td>0.0</td>\n",
       "      <td>0.0</td>\n",
       "      <td>0.0</td>\n",
       "      <td>1.0</td>\n",
       "      <td>0.0</td>\n",
       "      <td>0.0</td>\n",
       "      <td>0.0</td>\n",
       "      <td>0.0</td>\n",
       "      <td>0.0</td>\n",
       "    </tr>\n",
       "    <tr>\n",
       "      <th>3</th>\n",
       "      <td>0.536817</td>\n",
       "      <td>0.722117</td>\n",
       "      <td>0.000000</td>\n",
       "      <td>0.092807</td>\n",
       "      <td>0.800000</td>\n",
       "      <td>0.271318</td>\n",
       "      <td>0.069231</td>\n",
       "      <td>0.204819</td>\n",
       "      <td>0.40</td>\n",
       "      <td>0.23</td>\n",
       "      <td>...</td>\n",
       "      <td>0.0</td>\n",
       "      <td>0.0</td>\n",
       "      <td>0.0</td>\n",
       "      <td>0.0</td>\n",
       "      <td>0.0</td>\n",
       "      <td>0.0</td>\n",
       "      <td>1.0</td>\n",
       "      <td>0.0</td>\n",
       "      <td>0.0</td>\n",
       "      <td>0.0</td>\n",
       "    </tr>\n",
       "    <tr>\n",
       "      <th>4</th>\n",
       "      <td>0.356295</td>\n",
       "      <td>0.361059</td>\n",
       "      <td>0.026954</td>\n",
       "      <td>0.002320</td>\n",
       "      <td>0.503448</td>\n",
       "      <td>0.170543</td>\n",
       "      <td>0.115385</td>\n",
       "      <td>0.156627</td>\n",
       "      <td>0.92</td>\n",
       "      <td>0.47</td>\n",
       "      <td>...</td>\n",
       "      <td>0.0</td>\n",
       "      <td>0.0</td>\n",
       "      <td>0.0</td>\n",
       "      <td>0.0</td>\n",
       "      <td>0.0</td>\n",
       "      <td>0.0</td>\n",
       "      <td>0.0</td>\n",
       "      <td>0.0</td>\n",
       "      <td>0.0</td>\n",
       "      <td>0.0</td>\n",
       "    </tr>\n",
       "    <tr>\n",
       "      <th>...</th>\n",
       "      <td>...</td>\n",
       "      <td>...</td>\n",
       "      <td>...</td>\n",
       "      <td>...</td>\n",
       "      <td>...</td>\n",
       "      <td>...</td>\n",
       "      <td>...</td>\n",
       "      <td>...</td>\n",
       "      <td>...</td>\n",
       "      <td>...</td>\n",
       "      <td>...</td>\n",
       "      <td>...</td>\n",
       "      <td>...</td>\n",
       "      <td>...</td>\n",
       "      <td>...</td>\n",
       "      <td>...</td>\n",
       "      <td>...</td>\n",
       "      <td>...</td>\n",
       "      <td>...</td>\n",
       "      <td>...</td>\n",
       "      <td>...</td>\n",
       "    </tr>\n",
       "    <tr>\n",
       "      <th>28434</th>\n",
       "      <td>0.581948</td>\n",
       "      <td>0.540643</td>\n",
       "      <td>0.000000</td>\n",
       "      <td>0.085847</td>\n",
       "      <td>0.862069</td>\n",
       "      <td>0.240310</td>\n",
       "      <td>0.184615</td>\n",
       "      <td>0.313253</td>\n",
       "      <td>0.57</td>\n",
       "      <td>0.40</td>\n",
       "      <td>...</td>\n",
       "      <td>0.0</td>\n",
       "      <td>0.0</td>\n",
       "      <td>0.0</td>\n",
       "      <td>1.0</td>\n",
       "      <td>0.0</td>\n",
       "      <td>0.0</td>\n",
       "      <td>0.0</td>\n",
       "      <td>0.0</td>\n",
       "      <td>0.0</td>\n",
       "      <td>0.0</td>\n",
       "    </tr>\n",
       "    <tr>\n",
       "      <th>28435</th>\n",
       "      <td>0.603325</td>\n",
       "      <td>0.559546</td>\n",
       "      <td>0.002156</td>\n",
       "      <td>0.055684</td>\n",
       "      <td>0.586207</td>\n",
       "      <td>0.286822</td>\n",
       "      <td>0.153846</td>\n",
       "      <td>0.204819</td>\n",
       "      <td>0.52</td>\n",
       "      <td>0.38</td>\n",
       "      <td>...</td>\n",
       "      <td>0.0</td>\n",
       "      <td>1.0</td>\n",
       "      <td>0.0</td>\n",
       "      <td>0.0</td>\n",
       "      <td>0.0</td>\n",
       "      <td>0.0</td>\n",
       "      <td>0.0</td>\n",
       "      <td>0.0</td>\n",
       "      <td>0.0</td>\n",
       "      <td>0.0</td>\n",
       "    </tr>\n",
       "    <tr>\n",
       "      <th>28436</th>\n",
       "      <td>0.365796</td>\n",
       "      <td>0.536862</td>\n",
       "      <td>0.000000</td>\n",
       "      <td>0.055684</td>\n",
       "      <td>0.586207</td>\n",
       "      <td>0.193798</td>\n",
       "      <td>0.015385</td>\n",
       "      <td>0.204819</td>\n",
       "      <td>0.57</td>\n",
       "      <td>0.36</td>\n",
       "      <td>...</td>\n",
       "      <td>1.0</td>\n",
       "      <td>0.0</td>\n",
       "      <td>0.0</td>\n",
       "      <td>0.0</td>\n",
       "      <td>0.0</td>\n",
       "      <td>0.0</td>\n",
       "      <td>0.0</td>\n",
       "      <td>0.0</td>\n",
       "      <td>0.0</td>\n",
       "      <td>0.0</td>\n",
       "    </tr>\n",
       "    <tr>\n",
       "      <th>28437</th>\n",
       "      <td>0.679335</td>\n",
       "      <td>0.610586</td>\n",
       "      <td>0.000000</td>\n",
       "      <td>0.055684</td>\n",
       "      <td>0.586207</td>\n",
       "      <td>0.209302</td>\n",
       "      <td>0.130769</td>\n",
       "      <td>0.228916</td>\n",
       "      <td>0.90</td>\n",
       "      <td>0.76</td>\n",
       "      <td>...</td>\n",
       "      <td>0.0</td>\n",
       "      <td>0.0</td>\n",
       "      <td>0.0</td>\n",
       "      <td>0.0</td>\n",
       "      <td>0.0</td>\n",
       "      <td>0.0</td>\n",
       "      <td>0.0</td>\n",
       "      <td>0.0</td>\n",
       "      <td>0.0</td>\n",
       "      <td>0.0</td>\n",
       "    </tr>\n",
       "    <tr>\n",
       "      <th>28438</th>\n",
       "      <td>0.410926</td>\n",
       "      <td>0.355388</td>\n",
       "      <td>0.012938</td>\n",
       "      <td>0.013921</td>\n",
       "      <td>0.103448</td>\n",
       "      <td>0.255814</td>\n",
       "      <td>0.084615</td>\n",
       "      <td>0.228916</td>\n",
       "      <td>0.91</td>\n",
       "      <td>0.78</td>\n",
       "      <td>...</td>\n",
       "      <td>0.0</td>\n",
       "      <td>0.0</td>\n",
       "      <td>0.0</td>\n",
       "      <td>0.0</td>\n",
       "      <td>0.0</td>\n",
       "      <td>0.0</td>\n",
       "      <td>0.0</td>\n",
       "      <td>0.0</td>\n",
       "      <td>0.0</td>\n",
       "      <td>1.0</td>\n",
       "    </tr>\n",
       "  </tbody>\n",
       "</table>\n",
       "<p>28439 rows × 118 columns</p>\n",
       "</div>"
      ],
      "text/plain": [
       "        MinTemp   MaxTemp  Rainfall Evaporation  Sunshine WindGustSpeed  \\\n",
       "0      0.608076  0.638941  0.000000    0.041763  0.765517      0.209302   \n",
       "1      0.356295  0.362949  0.002156    0.009281  0.586207      0.310078   \n",
       "2      0.434679  0.381853  0.039353    0.055684  0.586207      0.193798   \n",
       "3      0.536817  0.722117  0.000000    0.092807  0.800000      0.271318   \n",
       "4      0.356295  0.361059  0.026954    0.002320  0.503448      0.170543   \n",
       "...         ...       ...       ...         ...       ...           ...   \n",
       "28434  0.581948  0.540643  0.000000    0.085847  0.862069      0.240310   \n",
       "28435  0.603325  0.559546  0.002156    0.055684  0.586207      0.286822   \n",
       "28436  0.365796  0.536862  0.000000    0.055684  0.586207      0.193798   \n",
       "28437  0.679335  0.610586  0.000000    0.055684  0.586207      0.209302   \n",
       "28438  0.410926  0.355388  0.012938    0.013921  0.103448      0.255814   \n",
       "\n",
       "      WindSpeed9am WindSpeed3pm Humidity9am Humidity3pm  ...  NNW   NW    S  \\\n",
       "0         0.084615     0.228916        0.63        0.61  ...  0.0  0.0  0.0   \n",
       "1         0.130769     0.265060        0.80        0.55  ...  0.0  0.0  1.0   \n",
       "2         0.100000     0.108434        0.70        0.61  ...  0.0  0.0  0.0   \n",
       "3         0.069231     0.204819        0.40        0.23  ...  0.0  0.0  0.0   \n",
       "4         0.115385     0.156627        0.92        0.47  ...  0.0  0.0  0.0   \n",
       "...            ...          ...         ...         ...  ...  ...  ...  ...   \n",
       "28434     0.184615     0.313253        0.57        0.40  ...  0.0  0.0  0.0   \n",
       "28435     0.153846     0.204819        0.52        0.38  ...  0.0  1.0  0.0   \n",
       "28436     0.015385     0.204819        0.57        0.36  ...  1.0  0.0  0.0   \n",
       "28437     0.130769     0.228916        0.90        0.76  ...  0.0  0.0  0.0   \n",
       "28438     0.084615     0.228916        0.91        0.78  ...  0.0  0.0  0.0   \n",
       "\n",
       "        SE  SSE  SSW   SW    W  WNW  WSW  \n",
       "0      0.0  0.0  0.0  0.0  0.0  0.0  0.0  \n",
       "1      0.0  0.0  0.0  0.0  0.0  0.0  0.0  \n",
       "2      0.0  1.0  0.0  0.0  0.0  0.0  0.0  \n",
       "3      0.0  0.0  0.0  1.0  0.0  0.0  0.0  \n",
       "4      0.0  0.0  0.0  0.0  0.0  0.0  0.0  \n",
       "...    ...  ...  ...  ...  ...  ...  ...  \n",
       "28434  1.0  0.0  0.0  0.0  0.0  0.0  0.0  \n",
       "28435  0.0  0.0  0.0  0.0  0.0  0.0  0.0  \n",
       "28436  0.0  0.0  0.0  0.0  0.0  0.0  0.0  \n",
       "28437  0.0  0.0  0.0  0.0  0.0  0.0  0.0  \n",
       "28438  0.0  0.0  0.0  0.0  0.0  0.0  1.0  \n",
       "\n",
       "[28439 rows x 118 columns]"
      ]
     },
     "execution_count": 51,
     "metadata": {},
     "output_type": "execute_result"
    }
   ],
   "source": [
    "X_test"
   ]
  },
  {
   "cell_type": "markdown",
   "id": "0cdb3984-231b-4b59-9088-e9104d59a34e",
   "metadata": {},
   "source": [
    "# 2. 模型"
   ]
  },
  {
   "cell_type": "markdown",
   "id": "a39c09e0-ac1b-468e-99b9-f5ff39955d8d",
   "metadata": {},
   "source": [
    "我们这里直接调用了库进行模型构建和训练"
   ]
  },
  {
   "cell_type": "code",
   "execution_count": null,
   "id": "a8d2346d-74a2-4e43-a564-6b7a47767ef1",
   "metadata": {},
   "outputs": [],
   "source": [
    "# 在训练集上训练逻辑回归模型\n",
    "from sklearn.linear_model import LogisticRegression\n",
    "\n",
    "# 实例化模型\n",
    "model = LogisticRegression(C=1, solver='liblinear', random_state=0)"
   ]
  },
  {
   "cell_type": "markdown",
   "id": "0add8df8-7867-4617-b7e5-91bf7c588867",
   "metadata": {},
   "source": [
    "# 3. 训练"
   ]
  },
  {
   "cell_type": "code",
   "execution_count": null,
   "id": "3c8100fe-b9c3-47bc-ab52-e3ffe57c6655",
   "metadata": {},
   "outputs": [
    {
     "data": {
      "text/html": [
       "<style>#sk-container-id-1 {color: black;}#sk-container-id-1 pre{padding: 0;}#sk-container-id-1 div.sk-toggleable {background-color: white;}#sk-container-id-1 label.sk-toggleable__label {cursor: pointer;display: block;width: 100%;margin-bottom: 0;padding: 0.3em;box-sizing: border-box;text-align: center;}#sk-container-id-1 label.sk-toggleable__label-arrow:before {content: \"▸\";float: left;margin-right: 0.25em;color: #696969;}#sk-container-id-1 label.sk-toggleable__label-arrow:hover:before {color: black;}#sk-container-id-1 div.sk-estimator:hover label.sk-toggleable__label-arrow:before {color: black;}#sk-container-id-1 div.sk-toggleable__content {max-height: 0;max-width: 0;overflow: hidden;text-align: left;background-color: #f0f8ff;}#sk-container-id-1 div.sk-toggleable__content pre {margin: 0.2em;color: black;border-radius: 0.25em;background-color: #f0f8ff;}#sk-container-id-1 input.sk-toggleable__control:checked~div.sk-toggleable__content {max-height: 200px;max-width: 100%;overflow: auto;}#sk-container-id-1 input.sk-toggleable__control:checked~label.sk-toggleable__label-arrow:before {content: \"▾\";}#sk-container-id-1 div.sk-estimator input.sk-toggleable__control:checked~label.sk-toggleable__label {background-color: #d4ebff;}#sk-container-id-1 div.sk-label input.sk-toggleable__control:checked~label.sk-toggleable__label {background-color: #d4ebff;}#sk-container-id-1 input.sk-hidden--visually {border: 0;clip: rect(1px 1px 1px 1px);clip: rect(1px, 1px, 1px, 1px);height: 1px;margin: -1px;overflow: hidden;padding: 0;position: absolute;width: 1px;}#sk-container-id-1 div.sk-estimator {font-family: monospace;background-color: #f0f8ff;border: 1px dotted black;border-radius: 0.25em;box-sizing: border-box;margin-bottom: 0.5em;}#sk-container-id-1 div.sk-estimator:hover {background-color: #d4ebff;}#sk-container-id-1 div.sk-parallel-item::after {content: \"\";width: 100%;border-bottom: 1px solid gray;flex-grow: 1;}#sk-container-id-1 div.sk-label:hover label.sk-toggleable__label {background-color: #d4ebff;}#sk-container-id-1 div.sk-serial::before {content: \"\";position: absolute;border-left: 1px solid gray;box-sizing: border-box;top: 0;bottom: 0;left: 50%;z-index: 0;}#sk-container-id-1 div.sk-serial {display: flex;flex-direction: column;align-items: center;background-color: white;padding-right: 0.2em;padding-left: 0.2em;position: relative;}#sk-container-id-1 div.sk-item {position: relative;z-index: 1;}#sk-container-id-1 div.sk-parallel {display: flex;align-items: stretch;justify-content: center;background-color: white;position: relative;}#sk-container-id-1 div.sk-item::before, #sk-container-id-1 div.sk-parallel-item::before {content: \"\";position: absolute;border-left: 1px solid gray;box-sizing: border-box;top: 0;bottom: 0;left: 50%;z-index: -1;}#sk-container-id-1 div.sk-parallel-item {display: flex;flex-direction: column;z-index: 1;position: relative;background-color: white;}#sk-container-id-1 div.sk-parallel-item:first-child::after {align-self: flex-end;width: 50%;}#sk-container-id-1 div.sk-parallel-item:last-child::after {align-self: flex-start;width: 50%;}#sk-container-id-1 div.sk-parallel-item:only-child::after {width: 0;}#sk-container-id-1 div.sk-dashed-wrapped {border: 1px dashed gray;margin: 0 0.4em 0.5em 0.4em;box-sizing: border-box;padding-bottom: 0.4em;background-color: white;}#sk-container-id-1 div.sk-label label {font-family: monospace;font-weight: bold;display: inline-block;line-height: 1.2em;}#sk-container-id-1 div.sk-label-container {text-align: center;}#sk-container-id-1 div.sk-container {/* jupyter's `normalize.less` sets `[hidden] { display: none; }` but bootstrap.min.css set `[hidden] { display: none !important; }` so we also need the `!important` here to be able to override the default hidden behavior on the sphinx rendered scikit-learn.org. See: https://github.com/scikit-learn/scikit-learn/issues/21755 */display: inline-block !important;position: relative;}#sk-container-id-1 div.sk-text-repr-fallback {display: none;}</style><div id=\"sk-container-id-1\" class=\"sk-top-container\"><div class=\"sk-text-repr-fallback\"><pre>LogisticRegression(C=1, random_state=0, solver=&#x27;liblinear&#x27;)</pre><b>In a Jupyter environment, please rerun this cell to show the HTML representation or trust the notebook. <br />On GitHub, the HTML representation is unable to render, please try loading this page with nbviewer.org.</b></div><div class=\"sk-container\" hidden><div class=\"sk-item\"><div class=\"sk-estimator sk-toggleable\"><input class=\"sk-toggleable__control sk-hidden--visually\" id=\"sk-estimator-id-1\" type=\"checkbox\" checked><label for=\"sk-estimator-id-1\" class=\"sk-toggleable__label sk-toggleable__label-arrow\">LogisticRegression</label><div class=\"sk-toggleable__content\"><pre>LogisticRegression(C=1, random_state=0, solver=&#x27;liblinear&#x27;)</pre></div></div></div></div></div>"
      ],
      "text/plain": [
       "LogisticRegression(C=1, random_state=0, solver='liblinear')"
      ]
     },
     "execution_count": 53,
     "metadata": {},
     "output_type": "execute_result"
    }
   ],
   "source": [
    "model.fit(X_train, y_train)"
   ]
  },
  {
   "cell_type": "markdown",
   "id": "519bce02-8f23-4117-ac8d-be9ef1036987",
   "metadata": {},
   "source": [
    "## 拓展2： 课后同学们，可以参考sklearn.linear_model中的实现方法，动手写一下回归模型及训练"
   ]
  },
  {
   "cell_type": "markdown",
   "id": "21060eeb-97da-4697-abf6-ba82ac523e6d",
   "metadata": {},
   "source": [
    "# 4. 测试"
   ]
  },
  {
   "cell_type": "markdown",
   "id": "60b1829b-c07e-45a8-8dc7-420aa1493436",
   "metadata": {},
   "source": [
    "## 4.1 预测结果"
   ]
  },
  {
   "cell_type": "code",
   "execution_count": null,
   "id": "5a077fd6-3d0d-4454-927b-b9e1f1d83892",
   "metadata": {},
   "outputs": [
    {
     "data": {
      "text/plain": [
       "array(['No', 'No', 'No', ..., 'No', 'No', 'Yes'], dtype=object)"
      ]
     },
     "execution_count": 54,
     "metadata": {},
     "output_type": "execute_result"
    }
   ],
   "source": [
    "y_pred_test = model.predict(X_test)\n",
    "\n",
    "y_pred_test"
   ]
  },
  {
   "cell_type": "markdown",
   "id": "89022342-8301-4e1f-98eb-8a946d70d041",
   "metadata": {},
   "source": [
    "## 4.1 计算准确率分数"
   ]
  },
  {
   "cell_type": "code",
   "execution_count": null,
   "id": "73278276-de25-47a9-afc4-c01400f4ef03",
   "metadata": {},
   "outputs": [
    {
     "name": "stdout",
     "output_type": "stream",
     "text": [
      "Model accuracy score: 0.8505\n"
     ]
    }
   ],
   "source": [
    "from sklearn.metrics import accuracy_score\n",
    "\n",
    "print('Model accuracy score: {0:0.4f}'. format(accuracy_score(y_test, y_pred_test)))"
   ]
  },
  {
   "cell_type": "markdown",
   "id": "a9ec4483-178c-4841-8acd-8a58e3e1b906",
   "metadata": {},
   "source": [
    "这里，**y_test**是真实的类标签，**y_pred_test**是测试集中的预测类标签。"
   ]
  },
  {
   "cell_type": "code",
   "execution_count": null,
   "id": "6196b5b6-8ef6-40d3-a8b3-15458e6f3b86",
   "metadata": {},
   "outputs": [
    {
     "name": "stdout",
     "output_type": "stream",
     "text": [
      "Training set score: 0.8478\n",
      "Test set score: 0.8505\n"
     ]
    }
   ],
   "source": [
    "# 打印训练集和测试集的分数\n",
    "\n",
    "print('Training set score: {:.4f}'.format(model.score(X_train, y_train)))\n",
    "\n",
    "print('Test set score: {:.4f}'.format(model.score(X_test, y_test)))"
   ]
  },
  {
   "cell_type": "markdown",
   "id": "3760d4d2-9748-4cf1-9be6-fdad430c722b",
   "metadata": {},
   "source": [
    "在逻辑回归中，我们使用默认值 C = 1。它提供了良好的性能，在训练集和测试集上的准确率约为 85%。\n",
    "\n",
    "## 拓展3： 逻辑回归我们使用的默认值1，这个数值是什么含义，调整他代表什么，课后可以进行尝试。"
   ]
  },
  {
   "cell_type": "markdown",
   "id": "96d11c65-2a94-4aab-ac39-72e809a1fd6d",
   "metadata": {},
   "source": [
    "## 4.2 其他分类指标"
   ]
  },
  {
   "cell_type": "markdown",
   "id": "8a5ed027-f985-4298-ab06-35d16faff76e",
   "metadata": {},
   "source": [
    "### 4.2.1 混淆矩阵"
   ]
  },
  {
   "cell_type": "markdown",
   "id": "159ea0c6-9aff-4d91-a540-710921eb1fbd",
   "metadata": {},
   "source": [
    "混淆矩阵是总结分类算法性能的工具。 混淆矩阵将使我们清楚地了解分类模型的性能以及模型产生的错误类型。 它为我们提供了按每个类别细分的正确和错误预测的摘要。 摘要以表格形式表示。\n",
    "\n",
    "\n",
    "评估分类模型性能时可能出现四种类型的结果。 这四种结果描述如下：-\n",
    "\n",
    "\n",
    "**真阳性 (TP)** – 当我们预测观察结果属于某个类别并且该观察结果实际上属于该类别时，就会发生真阳性。\n",
    "\n",
    "\n",
    "**真负例 (TN)** – 当我们预测观察结果不属于某个类别并且该观察结果实际上不属于该类别时，就会出现真负例。\n",
    "\n",
    "\n",
    "**误报 (FP)** – 当我们预测观察结果属于某个类别但该观察结果实际上不属于该类别时，就会发生误报。 这种类型的错误称为**I 类错误。**\n",
    "\n",
    "\n",
    "\n",
    "**假阴性 (FN)** – 当我们预测观察结果不属于某个类别但该观察结果实际上属于该类别时，就会出现假阴性。 这是一个非常严重的错误，称为 **II 类错误。**\n",
    "\n",
    "\n",
    "\n",
    "这四种结果总结在下面给出的混淆矩阵中。"
   ]
  },
  {
   "cell_type": "code",
   "execution_count": null,
   "id": "70ee2982-321b-4dd7-b793-7fad370cc6a8",
   "metadata": {},
   "outputs": [
    {
     "name": "stdout",
     "output_type": "stream",
     "text": [
      "Confusion matrix\n",
      "\n",
      " [[20909  1158]\n",
      " [ 3095  3277]]\n",
      "\n",
      "True Positives(TP) =  20909\n",
      "\n",
      "True Negatives(TN) =  3277\n",
      "\n",
      "False Positives(FP) =  1158\n",
      "\n",
      "False Negatives(FN) =  3095\n"
     ]
    }
   ],
   "source": [
    "# 输出混淆矩阵\n",
    "\n",
    "from sklearn.metrics import confusion_matrix\n",
    "\n",
    "cm = confusion_matrix(y_test, y_pred_test)\n",
    "\n",
    "print('Confusion matrix\\n\\n', cm)\n",
    "\n",
    "print('\\nTrue Positives(TP) = ', cm[0,0])\n",
    "\n",
    "print('\\nTrue Negatives(TN) = ', cm[1,1])\n",
    "\n",
    "print('\\nFalse Positives(FP) = ', cm[0,1])\n",
    "\n",
    "print('\\nFalse Negatives(FN) = ', cm[1,0])"
   ]
  },
  {
   "cell_type": "code",
   "execution_count": null,
   "id": "1a14fbf9-8d44-4f68-9183-d4d7dc63e56c",
   "metadata": {},
   "outputs": [
    {
     "data": {
      "text/plain": [
       "<Axes: >"
      ]
     },
     "execution_count": 58,
     "metadata": {},
     "output_type": "execute_result"
    },
    {
     "data": {
      "image/png": "[encoded data removed]",
      "text/plain": [
       "<Figure size 640x480 with 2 Axes>"
      ]
     },
     "metadata": {},
     "output_type": "display_data"
    }
   ],
   "source": [
    "# 计算混淆矩阵并可视化\n",
    "\n",
    "cm_matrix = pd.DataFrame(data=cm, columns=['Actual Positive:1', 'Actual Negative:0'], \n",
    "                                 index=['Predict Positive:1', 'Predict Negative:0'])\n",
    "\n",
    "sns.heatmap(cm_matrix, annot=True, fmt='d', cmap='YlGnBu')"
   ]
  },
  {
   "cell_type": "code",
   "execution_count": null,
   "id": "40294fd6-d571-469c-aed1-9a8b79557f29",
   "metadata": {},
   "outputs": [],
   "source": [
    "TP = cm[0,0]\n",
    "TN = cm[1,1]\n",
    "FP = cm[0,1]\n",
    "FN = cm[1,0]"
   ]
  },
  {
   "cell_type": "code",
   "execution_count": null,
   "id": "8038b419-0901-4b1f-a123-4752c971d041",
   "metadata": {},
   "outputs": [
    {
     "name": "stdout",
     "output_type": "stream",
     "text": [
      "Classification accuracy : 0.8505\n"
     ]
    }
   ],
   "source": [
    "# 打印分类准确率\n",
    "\n",
    "classification_accuracy = (TP + TN) / float(TP + TN + FP + FN)\n",
    "\n",
    "print('Classification accuracy : {0:0.4f}'.format(classification_accuracy))"
   ]
  },
  {
   "cell_type": "markdown",
   "id": "2ce85e59-3ab8-4b2d-96f6-f860faf53863",
   "metadata": {},
   "source": [
    "## 精确率\n",
    "\n",
    "\n",
    "**精确率**可以定义为正确预测的积极结果占所有预测的积极结果的百分比。 它可以表示为真阳性 (TP) 与真阳性和假阳性之和 (TP + FP) 的比率。\n",
    "\n",
    "\n",
    "因此，**精确率**确定了正确预测的积极结果的比例。 它更关心正类而不是负类。\n",
    "\n",
    "\n",
    "\n",
    "从数学上讲，精确率可以定义为“TP 与 (TP + FP)”的比率。"
   ]
  },
  {
   "cell_type": "code",
   "execution_count": null,
   "id": "2d64fea6-de96-4131-b3c7-fa765fc9145a",
   "metadata": {},
   "outputs": [
    {
     "name": "stdout",
     "output_type": "stream",
     "text": [
      "Precision : 0.9475\n"
     ]
    }
   ],
   "source": [
    "# 打印精确率分数\n",
    "\n",
    "precision = TP / float(TP + FP)\n",
    "\n",
    "\n",
    "print('Precision : {0:0.4f}'.format(precision))"
   ]
  },
  {
   "cell_type": "markdown",
   "id": "c1f30397-a046-4ead-831a-4be128e7dbb2",
   "metadata": {},
   "source": [
    "## 召回率\n",
    "\n",
    "\n",
    "召回率可以定义为正确预测的积极结果占所有实际积极结果的百分比。\n",
    "它可以表示为真阳性 (TP) 与真阳性和假阴性之和 (TP + FN) 的比率。 **召回率**也称为**灵敏度**。\n",
    "\n",
    "\n",
    "**召回率**确定正确预测的实际阳性结果的比例。\n",
    "\n",
    "\n",
    "从数学上讲，召回率可以表示为“TP 与 (TP + FN)”的比率。\n",
    "”的比率。"
   ]
  },
  {
   "cell_type": "code",
   "execution_count": null,
   "id": "cb1cdf58-375d-4411-a073-7f9abb7e641b",
   "metadata": {},
   "outputs": [
    {
     "name": "stdout",
     "output_type": "stream",
     "text": [
      "Recall or Sensitivity : 0.8711\n"
     ]
    }
   ],
   "source": [
    "# 打印召回率\n",
    "\n",
    "recall = TP / float(TP + FN)\n",
    "\n",
    "print('Recall or Sensitivity : {0:0.4f}'.format(recall))"
   ]
  },
  {
   "cell_type": "markdown",
   "id": "10a1e534-0785-4ab0-a719-b606ea442817",
   "metadata": {},
   "source": [
    "# 5. 总结\n",
    "\n",
    "## 思考：\n",
    "\n",
    "- 为什么要区分数值变量和分类变量？\n",
    "- 分类变量为什么要将所有类别拆开加在后面，而不是直接赋值的方式？\n",
    "\n",
    "## 拓展:\n",
    "- 对于数值变量中的异常值如何处理，进一步提高准确率。（提示：绘制直方图来检查分布，以确定它们是正态分布还是偏态分布。 如果变量遵循正态分布，那么我可以进行极值分析，否则如果它们存在偏差，找到 IQR（分位数范围）。）\n",
    "- 同学们课后可以自行动手写一下线性回归的模型及训练过程。实现sigmoid函数，CE_loss的计算，反向传播等等。对模型及训练部分进行拓展。\n",
    "  \n",
    "- 逻辑回归我们使用的默认值1，这个数值是什么含义，调整他代表什么，课后可以进行尝试。"
   ]
  }
 ],
 "metadata": {
  "kernelspec": {
   "display_name": "Python 3 (ipykernel)",
   "language": "python",
   "name": "python3"
  },
  "language_info": {
   "codemirror_mode": {
    "name": "ipython",
    "version": 3
   },
   "file_extension": ".py",
   "mimetype": "text/x-python",
   "name": "python",
   "nbconvert_exporter": "python",
   "pygments_lexer": "ipython3",
   "version": "3.11.4"
  }
 },
 "nbformat": 4,
 "nbformat_minor": 5
}
