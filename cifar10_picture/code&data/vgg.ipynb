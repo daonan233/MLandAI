{
 "cells": [
  {
   "cell_type": "code",
   "execution_count": 14,
   "id": "7a5fd372-57e3-4ae3-a924-ba5bb13b2021",
   "metadata": {
    "execution": {
     "iopub.execute_input": "2024-06-02T04:48:34.553672Z",
     "iopub.status.busy": "2024-06-02T04:48:34.553233Z",
     "iopub.status.idle": "2024-06-02T04:48:36.195491Z",
     "shell.execute_reply": "2024-06-02T04:48:36.194616Z",
     "shell.execute_reply.started": "2024-06-02T04:48:34.553646Z"
    },
    "tags": []
   },
   "outputs": [
    {
     "name": "stdout",
     "output_type": "stream",
     "text": [
      "2.0.1+cu118\n",
      "cuda\n",
      "Files already downloaded and verified\n",
      "Files already downloaded and verified\n"
     ]
    }
   ],
   "source": [
    "import torch\n",
    "import torchvision\n",
    "import torchvision.transforms as transforms\n",
    "import torch.nn as nn\n",
    "import torch.optim as optim\n",
    "from torchvision import models\n",
    "\n",
    "print(torch.__version__)\n",
    "# 检查CUDA是否可用\n",
    "device = torch.device(\"cuda\" if torch.cuda.is_available() else \"cpu\")\n",
    "print(device)\n",
    "\n",
    "transform = transforms.Compose([\n",
    "    transforms.Resize(256),\n",
    "    transforms.CenterCrop(224),\n",
    "    transforms.ToTensor(),\n",
    "    transforms.Normalize(mean=[0.485, 0.456, 0.406], std=[0.229, 0.224, 0.225])\n",
    "])\n",
    "\n",
    "trainset = torchvision.datasets.CIFAR10(root='./data', train=True, download=True, transform=transform)\n",
    "trainloader = torch.utils.data.DataLoader(trainset, batch_size=128, shuffle=True, num_workers=2)\n",
    "\n",
    "testset = torchvision.datasets.CIFAR10(root='./data', train=False, download=True, transform=transform)\n",
    "testloader = torch.utils.data.DataLoader(testset, batch_size=128, shuffle=False, num_workers=2)"
   ]
  },
  {
   "cell_type": "code",
   "execution_count": 15,
   "id": "09adbc77-860b-4343-85e0-e73be10d0280",
   "metadata": {
    "execution": {
     "iopub.execute_input": "2024-06-02T04:48:38.337160Z",
     "iopub.status.busy": "2024-06-02T04:48:38.336861Z",
     "iopub.status.idle": "2024-06-02T04:49:21.492713Z",
     "shell.execute_reply": "2024-06-02T04:49:21.492179Z",
     "shell.execute_reply.started": "2024-06-02T04:48:38.337141Z"
    },
    "tags": []
   },
   "outputs": [
    {
     "name": "stderr",
     "output_type": "stream",
     "text": [
      "/usr/local/lib/python3.8/site-packages/torchvision/models/_utils.py:223: UserWarning: Arguments other than a weight enum or `None` for 'weights' are deprecated since 0.13 and may be removed in the future. The current behavior is equivalent to passing `weights=VGG16_Weights.IMAGENET1K_V1`. You can also use `weights=VGG16_Weights.DEFAULT` to get the most up-to-date weights.\n",
      "  warnings.warn(msg)\n",
      "Downloading: \"https://download.pytorch.org/models/vgg16-397923af.pth\" to /output/.torch/hub/checkpoints/vgg16-397923af.pth\n",
      "100%|██████████| 528M/528M [00:40<00:00, 13.5MB/s]  \n"
     ]
    }
   ],
   "source": [
    "vgg = models.vgg16(pretrained=True)\n",
    "num_ftrs = vgg.classifier[6].in_features\n",
    "vgg.classifier[6] = nn.Linear(num_ftrs, 10)  # 适应 CIFAR-10 的 10 个类别"
   ]
  },
  {
   "cell_type": "code",
   "execution_count": 16,
   "id": "994feea5-a3e1-4e7d-8774-df53a0cab8d3",
   "metadata": {
    "execution": {
     "iopub.execute_input": "2024-06-02T04:49:33.091641Z",
     "iopub.status.busy": "2024-06-02T04:49:33.091410Z",
     "iopub.status.idle": "2024-06-02T04:49:33.151165Z",
     "shell.execute_reply": "2024-06-02T04:49:33.150651Z",
     "shell.execute_reply.started": "2024-06-02T04:49:33.091622Z"
    },
    "tags": []
   },
   "outputs": [],
   "source": [
    "vgg = vgg.to(device)\n",
    "\n",
    "criterion = nn.CrossEntropyLoss()\n",
    "optimizer = optim.SGD(vgg.parameters(), lr=0.001, momentum=0.9)"
   ]
  },
  {
   "cell_type": "code",
   "execution_count": 17,
   "id": "7a895c84-fc4e-44da-aa60-aeb8c0c56bb0",
   "metadata": {
    "execution": {
     "iopub.execute_input": "2024-06-02T04:49:36.203560Z",
     "iopub.status.busy": "2024-06-02T04:49:36.203328Z",
     "iopub.status.idle": "2024-06-02T05:11:09.186883Z",
     "shell.execute_reply": "2024-06-02T05:11:09.186226Z",
     "shell.execute_reply.started": "2024-06-02T04:49:36.203542Z"
    },
    "tags": []
   },
   "outputs": [
    {
     "name": "stdout",
     "output_type": "stream",
     "text": [
      "Epoch 1: Average Loss 0.570, Training Accuracy 80.17%\n",
      "Epoch 2: Average Loss 0.291, Training Accuracy 89.93%\n",
      "Epoch 3: Average Loss 0.213, Training Accuracy 92.61%\n",
      "Epoch 4: Average Loss 0.161, Training Accuracy 94.42%\n",
      "Epoch 5: Average Loss 0.122, Training Accuracy 95.76%\n",
      "Epoch 6: Average Loss 0.093, Training Accuracy 96.76%\n",
      "Epoch 7: Average Loss 0.070, Training Accuracy 97.56%\n",
      "Epoch 8: Average Loss 0.057, Training Accuracy 97.96%\n",
      "Epoch 9: Average Loss 0.042, Training Accuracy 98.58%\n",
      "Epoch 10: Average Loss 0.034, Training Accuracy 98.84%\n"
     ]
    }
   ],
   "source": [
    "for epoch in range(10):\n",
    "    running_loss = 0.0\n",
    "    total_batches = 0\n",
    "    correct_train = 0\n",
    "    total_train = 0\n",
    "    \n",
    "    vgg.train()  # 确保模型处于训练模式\n",
    "    for i, data in enumerate(trainloader, 0):\n",
    "        inputs, labels = data\n",
    "        # 将输入和标签转移到 GPU\n",
    "        inputs, labels = inputs.to(device), labels.to(device)\n",
    "        \n",
    "        optimizer.zero_grad()\n",
    "        outputs = vgg(inputs)\n",
    "        loss = criterion(outputs, labels)\n",
    "        loss.backward()\n",
    "        optimizer.step()\n",
    "        \n",
    "        running_loss += loss.item()\n",
    "        total_batches += 1\n",
    "        \n",
    "        _, predicted = torch.max(outputs.data, 1)\n",
    "        total_train += labels.size(0)\n",
    "        correct_train += (predicted == labels).sum().item()\n",
    "    \n",
    "    average_loss = running_loss / total_batches\n",
    "    train_accuracy = 100 * correct_train / total_train\n",
    "    print(f'Epoch {epoch + 1}: Average Loss {average_loss:.3f}, Training Accuracy {train_accuracy:.2f}%')"
   ]
  },
  {
   "cell_type": "code",
   "execution_count": 18,
   "id": "5e68c9b6-66fd-45fb-ab21-991a148ccee1",
   "metadata": {
    "execution": {
     "iopub.execute_input": "2024-06-02T05:15:43.625124Z",
     "iopub.status.busy": "2024-06-02T05:15:43.624873Z",
     "iopub.status.idle": "2024-06-02T05:15:53.136615Z",
     "shell.execute_reply": "2024-06-02T05:15:53.136003Z",
     "shell.execute_reply.started": "2024-06-02T05:15:43.625103Z"
    },
    "tags": []
   },
   "outputs": [
    {
     "name": "stdout",
     "output_type": "stream",
     "text": [
      "Accuracy on test set: 92.53%\n"
     ]
    }
   ],
   "source": [
    "# 在整个测试数据集上计算准确性\n",
    "correct = 0\n",
    "total = 0\n",
    "vgg.eval()  # 确保模型处于评估模式\n",
    "with torch.no_grad():\n",
    "    for data in testloader:\n",
    "        images, labels = data\n",
    "        # 将输入和标签转移到 GPU\n",
    "        images, labels = images.to(device), labels.to(device)\n",
    "        \n",
    "        outputs = vgg(images)\n",
    "        _, predicted = torch.max(outputs.data, 1)\n",
    "        total += labels.size(0)\n",
    "        correct += (predicted == labels).sum().item()\n",
    "\n",
    "test_accuracy = 100 * correct / total\n",
    "print(f'Accuracy on test set: {test_accuracy:.2f}%')"
   ]
  },
  {
   "cell_type": "code",
   "execution_count": null,
   "id": "b4f137c8-e7f9-4d6f-8b9c-5e5613b955c6",
   "metadata": {},
   "outputs": [],
   "source": []
  }
 ],
 "metadata": {
  "kernelspec": {
   "display_name": "Python 3 (ipykernel)",
   "language": "python",
   "name": "python3"
  },
  "language_info": {
   "codemirror_mode": {
    "name": "ipython",
    "version": 3
   },
   "file_extension": ".py",
   "mimetype": "text/x-python",
   "name": "python",
   "nbconvert_exporter": "python",
   "pygments_lexer": "ipython3",
   "version": "3.8.18"
  }
 },
 "nbformat": 4,
 "nbformat_minor": 5
}
