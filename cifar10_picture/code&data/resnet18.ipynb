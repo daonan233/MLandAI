{
 "cells": [
  {
   "cell_type": "code",
   "execution_count": 1,
   "id": "7a5fd372-57e3-4ae3-a924-ba5bb13b2021",
   "metadata": {
    "execution": {
     "iopub.execute_input": "2024-06-04T03:31:11.449036Z",
     "iopub.status.busy": "2024-06-04T03:31:11.448601Z",
     "iopub.status.idle": "2024-06-04T03:31:14.432804Z",
     "shell.execute_reply": "2024-06-04T03:31:14.431858Z",
     "shell.execute_reply.started": "2024-06-04T03:31:11.448993Z"
    },
    "tags": []
   },
   "outputs": [
    {
     "name": "stdout",
     "output_type": "stream",
     "text": [
      "2.0.1+cu118\n",
      "cuda\n",
      "Files already downloaded and verified\n",
      "Files already downloaded and verified\n"
     ]
    }
   ],
   "source": [
    "import torch\n",
    "import torchvision\n",
    "import torchvision.transforms as transforms\n",
    "import torch.nn as nn\n",
    "import torch.optim as optim\n",
    "from torchvision import models\n",
    "\n",
    "print(torch.__version__)\n",
    "# 检查CUDA是否可用\n",
    "device = torch.device(\"cuda\" if torch.cuda.is_available() else \"cpu\")\n",
    "print(device)\n",
    "\n",
    "transform = transforms.Compose([\n",
    "    transforms.Resize(256),\n",
    "    transforms.CenterCrop(224),\n",
    "    transforms.ToTensor(),\n",
    "    transforms.Normalize(mean=[0.485, 0.456, 0.406], std=[0.229, 0.224, 0.225])\n",
    "])\n",
    "\n",
    "trainset = torchvision.datasets.CIFAR10(root='./data', train=True, download=True, transform=transform)\n",
    "trainloader = torch.utils.data.DataLoader(trainset, batch_size=128, shuffle=True, num_workers=2)\n",
    "\n",
    "testset = torchvision.datasets.CIFAR10(root='./data', train=False, download=True, transform=transform)\n",
    "testloader = torch.utils.data.DataLoader(testset, batch_size=128, shuffle=False, num_workers=2)\n"
   ]
  },
  {
   "cell_type": "code",
   "execution_count": 2,
   "id": "09adbc77-860b-4343-85e0-e73be10d0280",
   "metadata": {
    "execution": {
     "iopub.execute_input": "2024-06-04T03:31:16.502501Z",
     "iopub.status.busy": "2024-06-04T03:31:16.502132Z",
     "iopub.status.idle": "2024-06-04T03:31:17.111130Z",
     "shell.execute_reply": "2024-06-04T03:31:17.110478Z",
     "shell.execute_reply.started": "2024-06-04T03:31:16.502478Z"
    },
    "tags": []
   },
   "outputs": [
    {
     "name": "stderr",
     "output_type": "stream",
     "text": [
      "/usr/local/lib/python3.8/site-packages/torchvision/models/_utils.py:208: UserWarning: The parameter 'pretrained' is deprecated since 0.13 and may be removed in the future, please use 'weights' instead.\n",
      "  warnings.warn(\n",
      "/usr/local/lib/python3.8/site-packages/torchvision/models/_utils.py:223: UserWarning: Arguments other than a weight enum or `None` for 'weights' are deprecated since 0.13 and may be removed in the future. The current behavior is equivalent to passing `weights=ResNet18_Weights.IMAGENET1K_V1`. You can also use `weights=ResNet18_Weights.DEFAULT` to get the most up-to-date weights.\n",
      "  warnings.warn(msg)\n"
     ]
    }
   ],
   "source": [
    "resnet = models.resnet18(pretrained=True)\n",
    "num_ftrs = resnet.fc.in_features\n",
    "resnet.fc = nn.Linear(num_ftrs, 10)  # 适应 CIFAR-10 的 10 个类别\n",
    "resnet = resnet.to(device)"
   ]
  },
  {
   "cell_type": "code",
   "execution_count": 3,
   "id": "994feea5-a3e1-4e7d-8774-df53a0cab8d3",
   "metadata": {
    "execution": {
     "iopub.execute_input": "2024-06-04T03:31:19.385442Z",
     "iopub.status.busy": "2024-06-04T03:31:19.385197Z",
     "iopub.status.idle": "2024-06-04T03:31:19.389629Z",
     "shell.execute_reply": "2024-06-04T03:31:19.388990Z",
     "shell.execute_reply.started": "2024-06-04T03:31:19.385422Z"
    },
    "tags": []
   },
   "outputs": [],
   "source": [
    "criterion = nn.CrossEntropyLoss()\n",
    "optimizer = optim.SGD(resnet.parameters(), lr=0.001, momentum=0.9)"
   ]
  },
  {
   "cell_type": "code",
   "execution_count": 4,
   "id": "7a895c84-fc4e-44da-aa60-aeb8c0c56bb0",
   "metadata": {
    "execution": {
     "iopub.execute_input": "2024-06-04T03:31:21.624637Z",
     "iopub.status.busy": "2024-06-04T03:31:21.624420Z",
     "iopub.status.idle": "2024-06-04T03:36:33.705276Z",
     "shell.execute_reply": "2024-06-04T03:36:33.704541Z",
     "shell.execute_reply.started": "2024-06-04T03:31:21.624615Z"
    },
    "tags": []
   },
   "outputs": [
    {
     "name": "stdout",
     "output_type": "stream",
     "text": [
      "Epoch 1: Average Loss 0.694, Training Accuracy 77.99%\n",
      "Epoch 2: Average Loss 0.258, Training Accuracy 91.64%\n",
      "Epoch 3: Average Loss 0.176, Training Accuracy 94.40%\n",
      "Epoch 4: Average Loss 0.127, Training Accuracy 96.10%\n",
      "Epoch 5: Average Loss 0.091, Training Accuracy 97.52%\n",
      "Epoch 6: Average Loss 0.066, Training Accuracy 98.29%\n",
      "Epoch 7: Average Loss 0.047, Training Accuracy 99.03%\n",
      "Epoch 8: Average Loss 0.033, Training Accuracy 99.48%\n",
      "Epoch 9: Average Loss 0.025, Training Accuracy 99.70%\n",
      "Epoch 10: Average Loss 0.019, Training Accuracy 99.84%\n"
     ]
    }
   ],
   "source": [
    "for epoch in range(10):\n",
    "    running_loss = 0.0\n",
    "    total_batches = 0\n",
    "    correct_train = 0\n",
    "    total_train = 0\n",
    "    \n",
    "    resnet.train()  # 确保模型处于训练模式\n",
    "    for i, data in enumerate(trainloader, 0):\n",
    "        inputs, labels = data\n",
    "        # 将输入和标签转移到 GPU\n",
    "        inputs, labels = inputs.to(device), labels.to(device)\n",
    "        \n",
    "        optimizer.zero_grad()\n",
    "        outputs = resnet(inputs)\n",
    "        loss = criterion(outputs, labels)\n",
    "        loss.backward()\n",
    "        optimizer.step()\n",
    "        \n",
    "        running_loss += loss.item()\n",
    "        total_batches += 1\n",
    "        \n",
    "        _, predicted = torch.max(outputs.data, 1)\n",
    "        total_train += labels.size(0)\n",
    "        correct_train += (predicted == labels).sum().item()\n",
    "    \n",
    "    average_loss = running_loss / total_batches\n",
    "    train_accuracy = 100 * correct_train / total_train\n",
    "    print(f'Epoch {epoch + 1}: Average Loss {average_loss:.3f}, Training Accuracy {train_accuracy:.2f}%')"
   ]
  },
  {
   "cell_type": "code",
   "execution_count": 5,
   "id": "5e68c9b6-66fd-45fb-ab21-991a148ccee1",
   "metadata": {
    "execution": {
     "iopub.execute_input": "2024-06-04T03:36:45.569611Z",
     "iopub.status.busy": "2024-06-04T03:36:45.569356Z",
     "iopub.status.idle": "2024-06-04T03:36:51.341820Z",
     "shell.execute_reply": "2024-06-04T03:36:51.341042Z",
     "shell.execute_reply.started": "2024-06-04T03:36:45.569587Z"
    },
    "tags": []
   },
   "outputs": [
    {
     "name": "stdout",
     "output_type": "stream",
     "text": [
      "Accuracy on test set: 93.87%\n"
     ]
    }
   ],
   "source": [
    "correct = 0\n",
    "total = 0\n",
    "resnet.eval()  # 确保模型处于评估模式\n",
    "with torch.no_grad():\n",
    "    for data in testloader:\n",
    "        images, labels = data\n",
    "        # 将输入和标签转移到 GPU\n",
    "        images, labels = images.to(device), labels.to(device)\n",
    "        \n",
    "        outputs = resnet(images)\n",
    "        _, predicted = torch.max(outputs.data, 1)\n",
    "        total += labels.size(0)\n",
    "        correct += (predicted == labels).sum().item()\n",
    "\n",
    "test_accuracy = 100 * correct / total\n",
    "print(f'Accuracy on test set: {test_accuracy:.2f}%')"
   ]
  },
  {
   "cell_type": "code",
   "execution_count": null,
   "id": "b4f137c8-e7f9-4d6f-8b9c-5e5613b955c6",
   "metadata": {},
   "outputs": [],
   "source": []
  }
 ],
 "metadata": {
  "kernelspec": {
   "display_name": "Python 3 (ipykernel)",
   "language": "python",
   "name": "python3"
  },
  "language_info": {
   "codemirror_mode": {
    "name": "ipython",
    "version": 3
   },
   "file_extension": ".py",
   "mimetype": "text/x-python",
   "name": "python",
   "nbconvert_exporter": "python",
   "pygments_lexer": "ipython3",
   "version": "3.8.18"
  }
 },
 "nbformat": 4,
 "nbformat_minor": 5
}
